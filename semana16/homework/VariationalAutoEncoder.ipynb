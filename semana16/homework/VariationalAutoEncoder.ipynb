{
 "cells": [
  {
   "cell_type": "code",
   "execution_count": 1,
   "metadata": {},
   "outputs": [
    {
     "name": "stderr",
     "output_type": "stream",
     "text": [
      "/usr/lib/python3.5/importlib/_bootstrap.py:222: RuntimeWarning: numpy.dtype size changed, may indicate binary incompatibility. Expected 96, got 88\n",
      "  return f(*args, **kwds)\n",
      "/usr/lib/python3.5/importlib/_bootstrap.py:222: RuntimeWarning: numpy.dtype size changed, may indicate binary incompatibility. Expected 96, got 88\n",
      "  return f(*args, **kwds)\n",
      "/usr/lib/python3.5/importlib/_bootstrap.py:222: RuntimeWarning: numpy.dtype size changed, may indicate binary incompatibility. Expected 96, got 88\n",
      "  return f(*args, **kwds)\n",
      "/usr/lib/python3.5/importlib/_bootstrap.py:222: RuntimeWarning: numpy.dtype size changed, may indicate binary incompatibility. Expected 96, got 88\n",
      "  return f(*args, **kwds)\n",
      "/usr/lib/python3.5/importlib/_bootstrap.py:222: RuntimeWarning: numpy.dtype size changed, may indicate binary incompatibility. Expected 96, got 88\n",
      "  return f(*args, **kwds)\n",
      "/usr/lib/python3.5/importlib/_bootstrap.py:222: RuntimeWarning: numpy.dtype size changed, may indicate binary incompatibility. Expected 96, got 88\n",
      "  return f(*args, **kwds)\n",
      "Using TensorFlow backend.\n"
     ]
    }
   ],
   "source": [
    "import numpy as np\n",
    "import tensorflow as tf\n",
    "from tensorflow.contrib.slim import fully_connected as fc\n",
    "from keras.models import Sequential\n",
    "from keras.layers import Dense, Activation, InputLayer, Reshape\n",
    "from keras.layers import Conv2D, MaxPooling2D, Flatten\n",
    "from keras.optimizers import Adam\n",
    "import matplotlib.pyplot as plt \n",
    "import cv2\n",
    "import random"
   ]
  },
  {
   "cell_type": "code",
   "execution_count": 2,
   "metadata": {},
   "outputs": [
    {
     "name": "stdout",
     "output_type": "stream",
     "text": [
      "WARNING:tensorflow:From <ipython-input-2-71d31c75ad12>:2: read_data_sets (from tensorflow.contrib.learn.python.learn.datasets.mnist) is deprecated and will be removed in a future version.\n",
      "Instructions for updating:\n",
      "Please use alternatives such as official/mnist/dataset.py from tensorflow/models.\n",
      "WARNING:tensorflow:From /home/diegojavier/.local/lib/python3.5/site-packages/tensorflow/contrib/learn/python/learn/datasets/mnist.py:260: maybe_download (from tensorflow.contrib.learn.python.learn.datasets.base) is deprecated and will be removed in a future version.\n",
      "Instructions for updating:\n",
      "Please write your own downloading logic.\n",
      "WARNING:tensorflow:From /home/diegojavier/.local/lib/python3.5/site-packages/tensorflow/contrib/learn/python/learn/datasets/mnist.py:262: extract_images (from tensorflow.contrib.learn.python.learn.datasets.mnist) is deprecated and will be removed in a future version.\n",
      "Instructions for updating:\n",
      "Please use tf.data to implement this functionality.\n",
      "Extracting MNIST_data/train-images-idx3-ubyte.gz\n",
      "WARNING:tensorflow:From /home/diegojavier/.local/lib/python3.5/site-packages/tensorflow/contrib/learn/python/learn/datasets/mnist.py:267: extract_labels (from tensorflow.contrib.learn.python.learn.datasets.mnist) is deprecated and will be removed in a future version.\n",
      "Instructions for updating:\n",
      "Please use tf.data to implement this functionality.\n",
      "Extracting MNIST_data/train-labels-idx1-ubyte.gz\n",
      "WARNING:tensorflow:From /home/diegojavier/.local/lib/python3.5/site-packages/tensorflow/contrib/learn/python/learn/datasets/mnist.py:110: dense_to_one_hot (from tensorflow.contrib.learn.python.learn.datasets.mnist) is deprecated and will be removed in a future version.\n",
      "Instructions for updating:\n",
      "Please use tf.one_hot on tensors.\n",
      "Extracting MNIST_data/t10k-images-idx3-ubyte.gz\n",
      "Extracting MNIST_data/t10k-labels-idx1-ubyte.gz\n",
      "WARNING:tensorflow:From /home/diegojavier/.local/lib/python3.5/site-packages/tensorflow/contrib/learn/python/learn/datasets/mnist.py:290: DataSet.__init__ (from tensorflow.contrib.learn.python.learn.datasets.mnist) is deprecated and will be removed in a future version.\n",
      "Instructions for updating:\n",
      "Please use alternatives such as official/mnist/dataset.py from tensorflow/models.\n",
      "55000  -  784\n"
     ]
    }
   ],
   "source": [
    "from tensorflow.examples.tutorials.mnist import input_data\n",
    "mnist = input_data.read_data_sets('MNIST_data', one_hot=True)\n",
    "num_sample = mnist.train.num_examples\n",
    "input_dim = mnist.train.images[0].shape[0]\n",
    "w = h = 28\n",
    "print(num_sample, \" - \", input_dim)"
   ]
  },
  {
   "cell_type": "markdown",
   "metadata": {},
   "source": [
    "## Variational AutoEncoder"
   ]
  },
  {
   "cell_type": "code",
   "execution_count": 3,
   "metadata": {},
   "outputs": [],
   "source": [
    "class VariantionalAutoencoder(object):\n",
    "\n",
    "    def __init__(self, learning_rate=1e-3, batch_size=100, n_z=10):\n",
    "        self.learning_rate = learning_rate\n",
    "        self.batch_size = batch_size\n",
    "        self.n_z = n_z\n",
    "\n",
    "        self.build()\n",
    "\n",
    "        self.sess = tf.InteractiveSession()\n",
    "        self.sess.run(tf.global_variables_initializer())\n",
    "\n",
    "    # Build network\n",
    "    def build(self):\n",
    "        self.x = tf.placeholder(name='x', dtype=tf.float32, shape=[None, input_dim])\n",
    "\n",
    "        # Encode\n",
    "        # x -> z_mean, z_sigma -> z\n",
    "        f1 = fc(self.x, 512, scope='enc_fc1', activation_fn=tf.nn.elu)\n",
    "        f2 = fc(f1, 384, scope='enc_fc2', activation_fn=tf.nn.elu)\n",
    "        f3 = fc(f2, 256, scope='enc_fc3', activation_fn=tf.nn.elu)\n",
    "        self.z_mu = fc(f3, self.n_z, scope='enc_fc4_mu', activation_fn=None)\n",
    "        self.z_log_sigma_sq = fc(f3, self.n_z, scope='enc_fc4_sigma', activation_fn=None)\n",
    "        eps = tf.random_normal(shape=tf.shape(self.z_log_sigma_sq),\n",
    "                               mean=0, stddev=1, dtype=tf.float32)\n",
    "        self.z = self.z_mu + tf.sqrt(tf.exp(self.z_log_sigma_sq)) * eps\n",
    "\n",
    "        # Decode\n",
    "        # z -> x_hat\n",
    "        g1 = fc(self.z, 256, scope='dec_fc1', activation_fn=tf.nn.elu)\n",
    "        g2 = fc(g1, 384, scope='dec_fc2', activation_fn=tf.nn.elu)\n",
    "        g3 = fc(g2, 512, scope='dec_fc3', activation_fn=tf.nn.elu)\n",
    "        self.x_hat = fc(g3, input_dim, scope='dec_fc4', activation_fn=tf.sigmoid)\n",
    "\n",
    "        # Loss\n",
    "        # Reconstruction loss\n",
    "        # Minimize the cross-entropy loss\n",
    "        # H(x, x_hat) = -\\Sigma x*log(x_hat) + (1-x)*log(1-x_hat)\n",
    "        epsilon = 1e-10\n",
    "        recon_loss = -tf.reduce_sum(\n",
    "            self.x * tf.log(epsilon+self.x_hat) + (1-self.x) * tf.log(epsilon+1-self.x_hat), \n",
    "            axis=1\n",
    "        )\n",
    "        self.recon_loss = tf.reduce_mean(recon_loss)\n",
    "\n",
    "        # Latent loss\n",
    "        # Kullback Leibler divergence: measure the difference between two distributions\n",
    "        # Here we measure the divergence between the latent distribution and N(0, 1)\n",
    "        latent_loss = -0.5 * tf.reduce_sum(\n",
    "            1 + self.z_log_sigma_sq - tf.square(self.z_mu) - tf.exp(self.z_log_sigma_sq), axis=1)\n",
    "        self.latent_loss = tf.reduce_mean(latent_loss)\n",
    "\n",
    "        self.total_loss = tf.reduce_mean(recon_loss + latent_loss)\n",
    "        self.train_op = tf.train.AdamOptimizer(\n",
    "            learning_rate=self.learning_rate).minimize(self.total_loss)\n",
    "        return\n",
    "\n",
    "    # Execute the forward and the backward pass\n",
    "    def run_single_step(self, x):\n",
    "        _, loss, recon_loss, latent_loss = self.sess.run(\n",
    "            [self.train_op, self.total_loss, self.recon_loss, self.latent_loss],\n",
    "            feed_dict={self.x: x}\n",
    "        )\n",
    "        return loss, recon_loss, latent_loss\n",
    "\n",
    "    # x -> x_hat\n",
    "    def reconstructor(self, x):\n",
    "        x_hat = self.sess.run(self.x_hat, feed_dict={self.x: x})\n",
    "        return x_hat\n",
    "\n",
    "    # z -> x\n",
    "    def generator(self, z):\n",
    "        x_hat = self.sess.run(self.x_hat, feed_dict={self.z: z})\n",
    "        return x_hat\n",
    "    \n",
    "    # x -> z\n",
    "    def transformer(self, x):\n",
    "        z = self.sess.run(self.z, feed_dict={self.x: x})\n",
    "        return z"
   ]
  },
  {
   "cell_type": "code",
   "execution_count": 4,
   "metadata": {},
   "outputs": [],
   "source": [
    "def trainer(learning_rate=1e-3, batch_size=100, num_epoch=75, n_z=10):\n",
    "    model = VariantionalAutoencoder(learning_rate=learning_rate,\n",
    "                                    batch_size=batch_size, n_z=n_z)\n",
    "\n",
    "    for epoch in range(num_epoch):\n",
    "        for iter in range(num_sample // batch_size):\n",
    "            # Obtain a batch\n",
    "            batch = mnist.train.next_batch(batch_size)\n",
    "            # Execute the forward and the backward pass and report computed losses\n",
    "            loss, recon_loss, latent_loss = model.run_single_step(batch[0])\n",
    "        \n",
    "        if epoch % 5 == 0:\n",
    "            print('[Epoch {}] Loss: {}, Recon loss: {}, Latent loss: {}'.format(\n",
    "                epoch, loss, recon_loss, latent_loss))\n",
    "            \n",
    "    print('Done!')\n",
    "    return model"
   ]
  },
  {
   "cell_type": "code",
   "execution_count": 5,
   "metadata": {},
   "outputs": [
    {
     "name": "stdout",
     "output_type": "stream",
     "text": [
      "[Epoch 0] Loss: 166.1533660888672, Recon loss: 156.03675842285156, Latent loss: 10.116595268249512\n",
      "[Epoch 5] Loss: 135.3345947265625, Recon loss: 124.42003631591797, Latent loss: 10.914546966552734\n",
      "[Epoch 10] Loss: 133.91885375976562, Recon loss: 123.09587097167969, Latent loss: 10.822986602783203\n",
      "[Epoch 15] Loss: 127.52800750732422, Recon loss: 116.27909851074219, Latent loss: 11.248909950256348\n",
      "[Epoch 20] Loss: 124.96163177490234, Recon loss: 113.5850601196289, Latent loss: 11.37656021118164\n",
      "[Epoch 25] Loss: 124.75137329101562, Recon loss: 113.31466674804688, Latent loss: 11.4367094039917\n",
      "[Epoch 30] Loss: 116.08502960205078, Recon loss: 104.4234848022461, Latent loss: 11.661543846130371\n",
      "[Epoch 35] Loss: 117.24324035644531, Recon loss: 105.50564575195312, Latent loss: 11.737592697143555\n",
      "[Epoch 40] Loss: 115.77679443359375, Recon loss: 104.23382568359375, Latent loss: 11.542974472045898\n",
      "[Epoch 45] Loss: 118.30817413330078, Recon loss: 106.47273254394531, Latent loss: 11.835427284240723\n",
      "[Epoch 50] Loss: 112.77456665039062, Recon loss: 100.7214126586914, Latent loss: 12.053153991699219\n",
      "[Epoch 55] Loss: 115.52989196777344, Recon loss: 103.53729248046875, Latent loss: 11.99260139465332\n",
      "[Epoch 60] Loss: 112.52702331542969, Recon loss: 100.17221069335938, Latent loss: 12.354803085327148\n",
      "[Epoch 65] Loss: 109.13368225097656, Recon loss: 97.15174865722656, Latent loss: 11.98193073272705\n",
      "[Epoch 70] Loss: 113.1900405883789, Recon loss: 101.061767578125, Latent loss: 12.128273963928223\n",
      "[Epoch 75] Loss: 117.82687377929688, Recon loss: 105.32984161376953, Latent loss: 12.497038841247559\n",
      "[Epoch 80] Loss: 107.60547637939453, Recon loss: 95.20022583007812, Latent loss: 12.405242919921875\n",
      "[Epoch 85] Loss: 113.2343978881836, Recon loss: 100.8758773803711, Latent loss: 12.35852336883545\n",
      "[Epoch 90] Loss: 113.02140808105469, Recon loss: 100.58824920654297, Latent loss: 12.433155059814453\n",
      "[Epoch 95] Loss: 120.9776382446289, Recon loss: 108.41065216064453, Latent loss: 12.566976547241211\n",
      "Done!\n"
     ]
    }
   ],
   "source": [
    "model = trainer(learning_rate=1e-4,  batch_size=100, num_epoch=100, n_z=5)"
   ]
  },
  {
   "cell_type": "markdown",
   "metadata": {},
   "source": [
    "## Recognition of Numbers"
   ]
  },
  {
   "cell_type": "code",
   "execution_count": 6,
   "metadata": {},
   "outputs": [
    {
     "name": "stdout",
     "output_type": "stream",
     "text": [
      "Extracting data/MNIST/train-images-idx3-ubyte.gz\n",
      "Extracting data/MNIST/train-labels-idx1-ubyte.gz\n",
      "Extracting data/MNIST/t10k-images-idx3-ubyte.gz\n",
      "Extracting data/MNIST/t10k-labels-idx1-ubyte.gz\n"
     ]
    }
   ],
   "source": [
    "data = input_data.read_data_sets('data/MNIST/', one_hot=True)\n",
    "data.test.cls = np.argmax(data.test.labels, axis=1)"
   ]
  },
  {
   "cell_type": "code",
   "execution_count": 7,
   "metadata": {},
   "outputs": [],
   "source": [
    "#Variables\n",
    "img_size = 28\n",
    "img_size_flat = img_size*img_size\n",
    "img_shape_full = (img_size, img_size, 1)\n",
    "num_classes = 10\n",
    "num_channels = 1"
   ]
  },
  {
   "cell_type": "code",
   "execution_count": 8,
   "metadata": {},
   "outputs": [],
   "source": [
    "#Model to recongnize numbers\n",
    "model_n = Sequential()\n",
    "model_n.add(InputLayer(input_shape=(img_size_flat,)))\n",
    "model_n.add(Reshape(img_shape_full))\n",
    "model_n.add(Conv2D(kernel_size=5, strides=1, filters=16, padding='same', activation='relu'))\n",
    "model_n.add(MaxPooling2D(pool_size=2, strides=2))\n",
    "model_n.add(Conv2D(kernel_size=5, strides=1, filters=36, padding='same', activation='relu'))\n",
    "model_n.add(MaxPooling2D(pool_size=2, strides=2))\n",
    "model_n.add(Flatten())\n",
    "model_n.add(Dense(128, activation='relu'))\n",
    "model_n.add(Dense(num_classes, activation='softmax'))"
   ]
  },
  {
   "cell_type": "code",
   "execution_count": 9,
   "metadata": {},
   "outputs": [],
   "source": [
    "optimizer = Adam(lr = 1e-3)\n",
    "model_n.compile(optimizer=optimizer, loss='categorical_crossentropy', metrics=['accuracy'])"
   ]
  },
  {
   "cell_type": "code",
   "execution_count": 10,
   "metadata": {},
   "outputs": [
    {
     "name": "stdout",
     "output_type": "stream",
     "text": [
      "Epoch 1/2\n",
      "55000/55000 [==============================] - 42s 764us/step - loss: 0.2206 - acc: 0.9347\n",
      "Epoch 2/2\n",
      "55000/55000 [==============================] - 41s 754us/step - loss: 0.0575 - acc: 0.9820\n"
     ]
    },
    {
     "data": {
      "text/plain": [
       "<keras.callbacks.History at 0x7f98146b28d0>"
      ]
     },
     "execution_count": 10,
     "metadata": {},
     "output_type": "execute_result"
    }
   ],
   "source": [
    "model_n.fit(x=data.train.images, y=data.train.labels,epochs=2, batch_size=128)"
   ]
  },
  {
   "cell_type": "markdown",
   "metadata": {},
   "source": [
    "## Generate Captcha"
   ]
  },
  {
   "cell_type": "code",
   "execution_count": 11,
   "metadata": {},
   "outputs": [],
   "source": [
    "numbers_captcha = [5, 5, 5]"
   ]
  },
  {
   "cell_type": "code",
   "execution_count": 53,
   "metadata": {},
   "outputs": [],
   "source": [
    "def generate_number(number):\n",
    "    img_number = np.empty((28,28))\n",
    "    while(True):\n",
    "        z = np.random.normal(size=[1, 5])\n",
    "        x_generated = model.generator(z)\n",
    "        number_pred = np.argmax(model_n.predict(x_generated[0, :].reshape(1,784)), axis=1) \n",
    "        if(number_pred[0] == number):\n",
    "            img_number = x_generated[0, :].reshape(28,28)    \n",
    "            return img_number\n",
    "        \n",
    "def add_line(img, items):\n",
    "    cv2.line(img,(random.randint(0,28*items),random.randint(0,28)), (random.randint(0,28*items),random.randint(0,28)), (1, 0, 0), 1)\n",
    "    return img"
   ]
  },
  {
   "cell_type": "code",
   "execution_count": 51,
   "metadata": {},
   "outputs": [],
   "source": [
    "def generate_captcha_v2(numbers, t, r, size):\n",
    "    \n",
    "    items = len(numbers)\n",
    "    img_cv = np.empty((size, size*items))\n",
    "    \n",
    "    m = size\n",
    "                \n",
    "    for i in range(size):\n",
    "        for j in range(size*items):\n",
    "            img_cv[i,j] = 0\n",
    "            \n",
    "    for i in range(items):\n",
    "        \n",
    "        img_generate = np.empty((size,size))        \n",
    "        img_generate = generate_number(numbers[i])\n",
    "        img_gray = image_to_gray(img_generate)\n",
    "        \n",
    "        #Rotation\n",
    "        rotation = random.randint(-r,r)\n",
    "        M = cv2.getRotationMatrix2D(((size-1)/2.0, (size-1)/2.0), rotation, 1)\n",
    "        img_rotate = cv2.warpAffine(img_gray, M, (size, size))\n",
    "        \n",
    "        #Translation\n",
    "        translation = random.randint(-t,t)\n",
    "        for j in range(size):\n",
    "            #if((28*i+j+translation)>-1 and (28*i+j+translation)< size*items):\n",
    "            #    if(np.sum(img_gray[0:28, j:j+1]) != 0):\n",
    "            #        img_cv[0:28, 28*i+j+translation:28*(i+1)+j+1+translation] = img_rotate[0:28, j:j+1]\n",
    "            img_cv[0:28, 28*i+j:28*(i+1)+j+1] = img_rotate[0:28, j:j+1]\n",
    "        \n",
    "    return add_noise(invert_gray(img_cv, size, size, items))\n",
    "    #return img_cv\n",
    "    \n",
    "def image_to_gray(img):\n",
    "    rows, cols = img.shape\n",
    "    for i in range(rows):\n",
    "        for j in range(cols):\n",
    "            if(img[i,j] > 0.4):\n",
    "                img[i,j] = 1\n",
    "            else:\n",
    "                img[i,j] = 0\n",
    "    return img\n",
    "\n",
    "def invert_gray(img_cv, rows, cols, items):\n",
    "    #Convert to 0 and 1\n",
    "    for i in range(rows):\n",
    "        for j in range(cols*items):\n",
    "            if(img_cv[i,j] == 0):\n",
    "                img_cv[i,j] = 1\n",
    "            else:\n",
    "                img_cv[i,j] = 0\n",
    "    return img_cv\n",
    "    \n",
    "def add_noise(img, noise_factor=0.3):\n",
    "    img = img + np.random.randn(*img.shape) * noise_factor\n",
    "    img = img.clip(0., 1.)\n",
    "    return img\n",
    "\n",
    "#size of 1 frame, items, and number_lines\n",
    "def image_with_line(size, items, number_lines):\n",
    "    img = np.empty((size, size*items))\n",
    "    for i in range(size):\n",
    "        for j in range(size*items):\n",
    "            img[i,j] = 0\n",
    "            \n",
    "    for k in range(number_lines):\n",
    "        img = add_line(img, items)\n",
    "    \n",
    "    return img"
   ]
  },
  {
   "cell_type": "code",
   "execution_count": 86,
   "metadata": {},
   "outputs": [],
   "source": [
    "def suma_images(img1, img2, items):\n",
    "    img = np.empty((28, 28*items)) \n",
    "    for i in range(28):\n",
    "        for j in range(28*items):\n",
    "            if img1[i,j] != 1:\n",
    "                img[i,j] = img1[i,j]+img2[i,j]\n",
    "    return img1+img2"
   ]
  },
  {
   "cell_type": "code",
   "execution_count": 70,
   "metadata": {},
   "outputs": [
    {
     "data": {
      "text/plain": [
       "<matplotlib.image.AxesImage at 0x7f97a23b0518>"
      ]
     },
     "execution_count": 70,
     "metadata": {},
     "output_type": "execute_result"
    },
    {
     "data": {
      "image/png": "[encoded data removed]",
      "text/plain": [
       "<Figure size 432x288 with 1 Axes>"
      ]
     },
     "metadata": {
      "needs_background": "light"
     },
     "output_type": "display_data"
    }
   ],
   "source": [
    "items = 3\n",
    "numbers_captcha = [5, 5, 2]\n",
    "captcha = generate_captcha_v2(numbers_captcha, 10, 20, 28)\n",
    "plt.imshow(captcha,cmap='gray')"
   ]
  },
  {
   "cell_type": "code",
   "execution_count": 79,
   "metadata": {},
   "outputs": [
    {
     "data": {
      "text/plain": [
       "<matplotlib.image.AxesImage at 0x7f97a22ad4a8>"
      ]
     },
     "execution_count": 79,
     "metadata": {},
     "output_type": "execute_result"
    },
    {
     "data": {
      "image/png": "[encoded data removed]",
      "text/plain": [
       "<Figure size 432x288 with 1 Axes>"
      ]
     },
     "metadata": {
      "needs_background": "light"
     },
     "output_type": "display_data"
    }
   ],
   "source": [
    "items = 3\n",
    "numbers_captcha = [5, 5, 2, 3]\n",
    "captcha = generate_captcha_v2(numbers_captcha, 10, 20, 28)\n",
    "plt.imshow(captcha,cmap='gray')"
   ]
  },
  {
   "cell_type": "code",
   "execution_count": 57,
   "metadata": {},
   "outputs": [
    {
     "data": {
      "text/plain": [
       "<matplotlib.image.AxesImage at 0x7f97f50c3320>"
      ]
     },
     "execution_count": 57,
     "metadata": {},
     "output_type": "execute_result"
    },
    {
     "data": {
      "image/png": "[encoded data removed]",
      "text/plain": [
       "<Figure size 432x288 with 1 Axes>"
      ]
     },
     "metadata": {
      "needs_background": "light"
     },
     "output_type": "display_data"
    }
   ],
   "source": [
    "lines = image_with_line(28,3, 4)\n",
    "plt.imshow(lines)"
   ]
  },
  {
   "cell_type": "code",
   "execution_count": 85,
   "metadata": {},
   "outputs": [
    {
     "data": {
      "text/plain": [
       "array([[1.        , 0.7402159 , 0.93884386, ..., 1.        , 1.        ,\n",
       "        0.95833674],\n",
       "       [0.93246605, 0.86869481, 1.        , ..., 0.9291094 , 0.55191325,\n",
       "        1.        ],\n",
       "       [1.        , 0.88157829, 1.        , ..., 1.        , 0.86569114,\n",
       "        1.        ],\n",
       "       ...,\n",
       "       [1.        , 0.64592137, 0.77792295, ..., 0.43862493, 1.        ,\n",
       "        1.        ],\n",
       "       [1.        , 1.        , 0.84049112, ..., 0.81653434, 0.45469352,\n",
       "        1.        ],\n",
       "       [0.19282564, 1.        , 1.        , ..., 1.        , 1.        ,\n",
       "        1.        ]])"
      ]
     },
     "execution_count": 85,
     "metadata": {},
     "output_type": "execute_result"
    }
   ],
   "source": [
    "captcha"
   ]
  },
  {
   "cell_type": "code",
   "execution_count": 87,
   "metadata": {},
   "outputs": [
    {
     "data": {
      "text/plain": [
       "<matplotlib.image.AxesImage at 0x7f97a218fba8>"
      ]
     },
     "execution_count": 87,
     "metadata": {},
     "output_type": "execute_result"
    },
    {
     "data": {
      "image/png": "[encoded data removed]",
      "text/plain": [
       "<Figure size 432x288 with 1 Axes>"
      ]
     },
     "metadata": {
      "needs_background": "light"
     },
     "output_type": "display_data"
    }
   ],
   "source": [
    "items = 3\n",
    "numbers_captcha = [5, 5, 2]\n",
    "captcha = generate_captcha_v2(numbers_captcha, 10, 20, 28)\n",
    "lines = image_with_line(28,items, 4)\n",
    "plt.imshow(suma_images(captcha,lines, items),cmap='gray')"
   ]
  },
  {
   "cell_type": "code",
   "execution_count": null,
   "metadata": {},
   "outputs": [],
   "source": []
  }
 ],
 "metadata": {
  "kernelspec": {
   "display_name": "Python 3",
   "language": "python",
   "name": "python3"
  },
  "language_info": {
   "codemirror_mode": {
    "name": "ipython",
    "version": 3
   },
   "file_extension": ".py",
   "mimetype": "text/x-python",
   "name": "python",
   "nbconvert_exporter": "python",
   "pygments_lexer": "ipython3",
   "version": "3.5.2"
  }
 },
 "nbformat": 4,
 "nbformat_minor": 2
}
