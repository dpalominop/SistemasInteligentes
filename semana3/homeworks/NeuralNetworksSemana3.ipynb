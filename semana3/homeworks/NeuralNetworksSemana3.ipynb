{
 "cells": [
  {
   "cell_type": "markdown",
   "metadata": {},
   "source": [
    "# Logistic Regression for Sentiment Analysis"
   ]
  },
  {
   "cell_type": "markdown",
   "metadata": {},
   "source": [
    "Adapted from http://nbviewer.jupyter.org/github/rasbt/pattern_classification/blob/master/machine_learning/scikit-learn/outofcore_modelpersistence.ipynb"
   ]
  },
  {
   "cell_type": "markdown",
   "metadata": {},
   "source": [
    "<br>\n",
    "<br>"
   ]
  },
  {
   "cell_type": "markdown",
   "metadata": {},
   "source": [
    "## The IMDb Movie Review Dataset"
   ]
  },
  {
   "cell_type": "markdown",
   "metadata": {},
   "source": [
    "In this section, we will train a simple logistic regression model to classify movie reviews from the 50k IMDb review dataset that has been collected by Maas et. al.\n",
    "\n",
    "> AL Maas, RE Daly, PT Pham, D Huang, AY Ng, and C Potts. Learning word vectors for sentiment analysis. In Proceedings of the 49th Annual Meeting of the Association for Computational Lin- guistics: Human Language Technologies, pages 142–150, Portland, Oregon, USA, June 2011. Association for Computational Linguistics\n",
    "\n",
    "[Source: http://ai.stanford.edu/~amaas/data/sentiment/]\n",
    "\n",
    "The dataset consists of 50,000 movie reviews from the original \"train\" and \"test\" subdirectories. The class labels are binary (1=positive and 0=negative) and contain 25,000 positive and 25,000 negative movie reviews, respectively.\n",
    "For simplicity, I assembled the reviews in a single CSV file.\n"
   ]
  },
  {
   "cell_type": "code",
   "execution_count": 1,
   "metadata": {},
   "outputs": [
    {
     "data": {
      "text/html": [
       "<div>\n",
       "<style scoped>\n",
       "    .dataframe tbody tr th:only-of-type {\n",
       "        vertical-align: middle;\n",
       "    }\n",
       "\n",
       "    .dataframe tbody tr th {\n",
       "        vertical-align: top;\n",
       "    }\n",
       "\n",
       "    .dataframe thead th {\n",
       "        text-align: right;\n",
       "    }\n",
       "</style>\n",
       "<table border=\"1\" class=\"dataframe\">\n",
       "  <thead>\n",
       "    <tr style=\"text-align: right;\">\n",
       "      <th></th>\n",
       "      <th>review</th>\n",
       "      <th>sentiment</th>\n",
       "    </tr>\n",
       "  </thead>\n",
       "  <tbody>\n",
       "    <tr>\n",
       "      <th>49995</th>\n",
       "      <td>With Al Jolson at the height of his popularity...</td>\n",
       "      <td>0</td>\n",
       "    </tr>\n",
       "    <tr>\n",
       "      <th>49996</th>\n",
       "      <td>This is a great movie, I did the play a while ...</td>\n",
       "      <td>1</td>\n",
       "    </tr>\n",
       "    <tr>\n",
       "      <th>49997</th>\n",
       "      <td>A horrible, horrible, horrible film. I saw the...</td>\n",
       "      <td>0</td>\n",
       "    </tr>\n",
       "    <tr>\n",
       "      <th>49998</th>\n",
       "      <td>I was surprised that \" Forgiving the Franklins...</td>\n",
       "      <td>1</td>\n",
       "    </tr>\n",
       "    <tr>\n",
       "      <th>49999</th>\n",
       "      <td>In watching this early DeMille work, it was on...</td>\n",
       "      <td>1</td>\n",
       "    </tr>\n",
       "  </tbody>\n",
       "</table>\n",
       "</div>"
      ],
      "text/plain": [
       "                                                  review  sentiment\n",
       "49995  With Al Jolson at the height of his popularity...          0\n",
       "49996  This is a great movie, I did the play a while ...          1\n",
       "49997  A horrible, horrible, horrible film. I saw the...          0\n",
       "49998  I was surprised that \" Forgiving the Franklins...          1\n",
       "49999  In watching this early DeMille work, it was on...          1"
      ]
     },
     "execution_count": 1,
     "metadata": {},
     "output_type": "execute_result"
    }
   ],
   "source": [
    "import pandas as pd\n",
    "# if you want to download the original file:\n",
    "#df = pd.read_csv('https://raw.githubusercontent.com/rasbt/pattern_classification/master/data/50k_imdb_movie_reviews.csv')\n",
    "# otherwise load local file\n",
    "#df[['review', 'sentiment']].to_csv('shuffled_movie_data.csv', index=False)\n",
    "df = pd.read_csv('shuffled_movie_data.csv')\n",
    "df.tail()"
   ]
  },
  {
   "cell_type": "markdown",
   "metadata": {},
   "source": [
    "Let us shuffle the class labels."
   ]
  },
  {
   "cell_type": "code",
   "execution_count": 2,
   "metadata": {
    "collapsed": true
   },
   "outputs": [
    {
     "data": {
      "text/html": [
       "<div>\n",
       "<style scoped>\n",
       "    .dataframe tbody tr th:only-of-type {\n",
       "        vertical-align: middle;\n",
       "    }\n",
       "\n",
       "    .dataframe tbody tr th {\n",
       "        vertical-align: top;\n",
       "    }\n",
       "\n",
       "    .dataframe thead th {\n",
       "        text-align: right;\n",
       "    }\n",
       "</style>\n",
       "<table border=\"1\" class=\"dataframe\">\n",
       "  <thead>\n",
       "    <tr style=\"text-align: right;\">\n",
       "      <th></th>\n",
       "      <th>review</th>\n",
       "      <th>sentiment</th>\n",
       "    </tr>\n",
       "  </thead>\n",
       "  <tbody>\n",
       "    <tr>\n",
       "      <th>11841</th>\n",
       "      <td>Daniel Day-Lewis is Christy Brown, a victim of...</td>\n",
       "      <td>1</td>\n",
       "    </tr>\n",
       "    <tr>\n",
       "      <th>19602</th>\n",
       "      <td>A complete waste of time&lt;br /&gt;&lt;br /&gt;Halla Bol ...</td>\n",
       "      <td>0</td>\n",
       "    </tr>\n",
       "    <tr>\n",
       "      <th>45519</th>\n",
       "      <td>The pros of this film are the astonishing figh...</td>\n",
       "      <td>1</td>\n",
       "    </tr>\n",
       "    <tr>\n",
       "      <th>25747</th>\n",
       "      <td>This film is a good start for novices that hav...</td>\n",
       "      <td>1</td>\n",
       "    </tr>\n",
       "    <tr>\n",
       "      <th>42642</th>\n",
       "      <td>Starring: Jim Carrey, Morgan Freeman, Jennifer...</td>\n",
       "      <td>1</td>\n",
       "    </tr>\n",
       "  </tbody>\n",
       "</table>\n",
       "</div>"
      ],
      "text/plain": [
       "                                                  review  sentiment\n",
       "11841  Daniel Day-Lewis is Christy Brown, a victim of...          1\n",
       "19602  A complete waste of time<br /><br />Halla Bol ...          0\n",
       "45519  The pros of this film are the astonishing figh...          1\n",
       "25747  This film is a good start for novices that hav...          1\n",
       "42642  Starring: Jim Carrey, Morgan Freeman, Jennifer...          1"
      ]
     },
     "execution_count": 2,
     "metadata": {},
     "output_type": "execute_result"
    }
   ],
   "source": [
    "import numpy as np\n",
    "## uncomment these lines if you have dowloaded the original file:\n",
    "np.random.seed(0)\n",
    "df = df.reindex(np.random.permutation(df.index))\n",
    "df[['review', 'sentiment']].to_csv('shuffled_movie_data.csv', index=False)\n",
    "df.head()"
   ]
  },
  {
   "cell_type": "markdown",
   "metadata": {},
   "source": [
    "<br>\n",
    "<br>"
   ]
  },
  {
   "cell_type": "markdown",
   "metadata": {},
   "source": [
    "## Preprocessing Text Data"
   ]
  },
  {
   "cell_type": "markdown",
   "metadata": {},
   "source": [
    "Now, let us define a simple `tokenizer` that splits the text into individual word tokens. Furthermore, we will use some simple regular expression to remove HTML markup and all non-letter characters but \"emoticons,\" convert the text to lower case, remove stopwords, and apply the Porter stemming algorithm to convert the words into their root form."
   ]
  },
  {
   "cell_type": "code",
   "execution_count": 3,
   "metadata": {
    "collapsed": true
   },
   "outputs": [],
   "source": [
    "import numpy as np\n",
    "from nltk.stem.porter import PorterStemmer\n",
    "import re\n",
    "from nltk.corpus import stopwords\n",
    "\n",
    "stop = stopwords.words('english')\n",
    "porter = PorterStemmer()\n",
    "\n",
    "def tokenizer(text):\n",
    "    text = re.sub('<[^>]*>', '', text)\n",
    "    emoticons = re.findall('(?::|;|=)(?:-)?(?:\\)|\\(|D|P)', text.lower())\n",
    "    text = re.sub('[\\W]+', ' ', text.lower()) + ' '.join(emoticons).replace('-', '')\n",
    "    text = [w for w in text.split() if w not in stop]\n",
    "    tokenized = [porter.stem(w) for w in text]\n",
    "    return text"
   ]
  },
  {
   "cell_type": "markdown",
   "metadata": {},
   "source": [
    "Let's give it at try:"
   ]
  },
  {
   "cell_type": "code",
   "execution_count": 4,
   "metadata": {},
   "outputs": [
    {
     "data": {
      "text/plain": [
       "['test', ':)', ':)']"
      ]
     },
     "execution_count": 4,
     "metadata": {},
     "output_type": "execute_result"
    }
   ],
   "source": [
    "tokenizer('This :) is a <a> test! :-)</br>')"
   ]
  },
  {
   "cell_type": "markdown",
   "metadata": {},
   "source": [
    "## Learning (SciKit)"
   ]
  },
  {
   "cell_type": "markdown",
   "metadata": {},
   "source": [
    "First, we define a generator that returns the document body and the corresponding class label:"
   ]
  },
  {
   "cell_type": "code",
   "execution_count": 5,
   "metadata": {
    "collapsed": true
   },
   "outputs": [],
   "source": [
    "def stream_docs(path):\n",
    "    with open(path, 'r', encoding=\"utf8\") as csv:\n",
    "        next(csv) # skip header\n",
    "        for line in csv:\n",
    "            text, label = line[:-3], int(line[-2])\n",
    "            yield text, label"
   ]
  },
  {
   "cell_type": "markdown",
   "metadata": {},
   "source": [
    "To conform that the `stream_docs` function fetches the documents as intended, let us execute the following code snippet before we implement the `get_minibatch` function:"
   ]
  },
  {
   "cell_type": "code",
   "execution_count": 6,
   "metadata": {},
   "outputs": [
    {
     "data": {
      "text/plain": [
       "('\"Daniel Day-Lewis is Christy Brown, a victim of cerebral palsy who uses \"\"My Left Foot\"\" to write and paint in this incredible 1989 film. The movie also stars Brenda Fricker as Christy\\'s mother, Ray McAnally, Fiona Shaw and Hugh O\\'Conor. Their brilliant performances, great script and wonderful direction by Jim Sheridan help to paint a vivid portrait of Christy Brown, an artist and writer who died in 1981 at the age of 49.<br /><br />Brown was born into a lower middle-class Catholic family where his mother was constantly pregnant (22 children in total, 13 of whom survived). His father considered Christy mentally retarded as well as physically handicapped, but he would not permit his son to go into a home. The children in the family would bid goodbye to him each day as they went off to school, and then his mother would feed him and talk to him.<br /><br />In the movie, Fricker conveys the sense of a woman who, despite being surrounded by a huge family, needs someone to talk to. Christy doesn\\'t talk back. Eventually a cart is found for him to ride in, and the neighborhood kids, all of whom have known him since he was a baby, include him in all of their activities. The only part of his body that works really well is his left foot, and when the kids find out how well he kicks, they put him into soccer games for just that purpose. One of the nicest parts of the film is the relaxed way the in which the other children treat him.<br /><br />There are many powerful scenes, but none as powerful as Christy writing \"\"Mother\"\" on the floor holding a piece of chalk between his toes. \"\"He\\'s a true Brown,\"\" his father declares, hoisting him on his shoulders and carrying him to the pub. Walking into the pub, he announces, \"\"My son\\'s a genius.\"\" Things change when Christy grows older because he has a young boy\\'s desires and emotions. He develops crushes, is rejected and goes more into himself, turning to painting. Eventually he goes into therapy in a nearby clinic and works with a therapist, Eileen (Fiona Shaw) at home. He falls in love with her. When he finds out she\\'s engaged, he nearly goes crazy. But he survives to live, to paint, to write (three books in total) and to love again.<br /><br />Because it\\'s a film, by necessity certain things had to be left out and characters combined. Brown wasn\\'t actually diagnosed with cerebral palsy for some time, which was left out of the movie. The therapist Eileen is actually a combination of three important therapeutic figures in Christy\\'s life, and though we know that his mother believed he had a good mind, in truth, she worked very hard with Christy when he was a child teaching him the alphabet, etc. Also, before Mary, Christy had a 12-year relationship with the woman to whom he dedicated \"\"My Left Foot.\"\" And the typical Hollywood ending, 9 years before his death where neglect by his wife may have been a factor, doesn\\'t finish the story.<br /><br />Despite all of that, Christy Brown\\'s biopic is incredibly powerful, all the more so because of two performances: Hugh O\\'Conor as young Christy and Daniel Day-Lewis as the adult Christy. O\\'Conor\\'s facial expression and the way he drags his warped body is gut-wrenching. One is exhausted for him and heartbroken at the same time.<br /><br />And what can be said about Daniel Day-Lewis, one of the greatest actors in the world - he brings Christy totally to life, a fully fleshed out, intelligent human being capable of swearing, becoming angry, bitter, drunk, pushy, lecherous, funny and loving. A well-deserved Oscar won in the same year that Tom Cruise was nominated for \"\"Born on the Fourth of July.\"\" I remember someone writing a letter to the editor somewhere that Cruise was so sensational, what was wrong with the Academy? Uh, nothing for a change. Nothing at all.<br /><br />Brenda Fricker is amazing as Christy\\'s mother, who never stops believing in him and what he can do and who holds her family and husband together during the hard times. The wonderful thing about Fricker\\'s performance is that the support, love and work ethic seem to come naturally to the mother. The character would never consider herself a heroine or as someone doing something out of the ordinary. Fricker shows us a religious but not fanatic woman who believes her duties on earth are to be a good wife and mother. And no matter what, even when her husband is out of work, throws their daughter out of the house for being pregnant, whatever, she manages. She saves money for Christy\\'s wheelchair, she receives photos of her daughter and the baby, she starts building a room for Christy in the back of the house. All part of a day\\'s work. A performance worthy of the Oscar she received.<br /><br />Brown\\'s life was more complicated than this inspiring film, but this is an amazing achievement by all involved and a must-see.\"',\n",
       " 1)"
      ]
     },
     "execution_count": 6,
     "metadata": {},
     "output_type": "execute_result"
    }
   ],
   "source": [
    "next(stream_docs(path='shuffled_movie_data.csv'))"
   ]
  },
  {
   "cell_type": "markdown",
   "metadata": {},
   "source": [
    "After we confirmed that our `stream_docs` functions works, we will now implement a `get_minibatch` function to fetch a specified number (`size`) of documents:"
   ]
  },
  {
   "cell_type": "code",
   "execution_count": 7,
   "metadata": {
    "collapsed": true
   },
   "outputs": [],
   "source": [
    "def get_minibatch(doc_stream, size):\n",
    "    docs, y = [], []\n",
    "    for _ in range(size):\n",
    "        text, label = next(doc_stream)\n",
    "        docs.append(text)\n",
    "        y.append(label)\n",
    "    return np.array(docs), np.array(y)"
   ]
  },
  {
   "cell_type": "markdown",
   "metadata": {},
   "source": [
    "Next, we will make use of the \"hashing trick\" through scikit-learns [HashingVectorizer](http://scikit-learn.org/stable/modules/generated/sklearn.feature_extraction.text.HashingVectorizer.html) to create a bag-of-words model of our documents. Details of the bag-of-words model for document classification can be found at  [Naive Bayes and Text Classification I - Introduction and Theory](http://arxiv.org/abs/1410.5329)."
   ]
  },
  {
   "cell_type": "code",
   "execution_count": 8,
   "metadata": {},
   "outputs": [],
   "source": [
    "# from sklearn.feature_extraction.text import HashingVectorizer\n",
    "# vect = HashingVectorizer(decode_error='ignore', \n",
    "#                          n_features=2**21,\n",
    "#                          preprocessor=None, \n",
    "#                          tokenizer=tokenizer)\n",
    "\n",
    "# Exercise 1: define features based on word embeddings (pre-trained word2vec / Glove/Fastext emebddings can be used)\n",
    "# Define suitable d dimension, and sequence length\n",
    "# https://nathanrooy.github.io/posts/2018-03-22/word2vec-from-scratch-with-python-and-numpy/\n",
    "\n",
    "\n",
    "doc_stream = stream_docs(path='shuffled_movie_data.csv')\n",
    "X_train, y_train = get_minibatch(doc_stream, size=45000)\n",
    "X_test, y_test = get_minibatch(doc_stream, size=5000)"
   ]
  },
  {
   "cell_type": "code",
   "execution_count": 9,
   "metadata": {},
   "outputs": [
    {
     "data": {
      "text/plain": [
       "(45000, 500)"
      ]
     },
     "execution_count": 9,
     "metadata": {},
     "output_type": "execute_result"
    }
   ],
   "source": [
    "from sklearn.feature_extraction.text import CountVectorizer\n",
    "vectorizer = CountVectorizer(analyzer = \"word\", tokenizer = None, preprocessor = None, stop_words = None, max_features = 500) \n",
    "X_train_vec = vectorizer.fit_transform(X_train).toarray()\n",
    "X_test_vec = vectorizer.fit_transform(X_test).toarray()\n",
    "\n",
    "X_train_vec.shape"
   ]
  },
  {
   "cell_type": "code",
   "execution_count": null,
   "metadata": {},
   "outputs": [],
   "source": []
  },
  {
   "cell_type": "markdown",
   "metadata": {},
   "source": [
    "Using the [SGDClassifier]() from scikit-learn, we will can instanciate a logistic regression classifier that learns from the documents incrementally using stochastic gradient descent. "
   ]
  },
  {
   "cell_type": "code",
   "execution_count": 10,
   "metadata": {
    "collapsed": true
   },
   "outputs": [],
   "source": [
    "from sklearn.linear_model import SGDClassifier\n",
    "clf = SGDClassifier(loss='log', random_state=1, n_iter=1)\n",
    "doc_stream = stream_docs(path='shuffled_movie_data.csv')\n",
    "# Exercise 2: Define at least a Three layer neural network. Define its structure (number of hidden neurons, etc)\n",
    "# Define a nonlinear function for hidden layers.\n",
    "# Define a suitable loss function for binary classification\n",
    "# Implement the backpropagation algorithm for this structure\n",
    "# Do not use Keras / Tensorflow /PyTorch etc. libraries\n",
    "# Train the model using SGD\n"
   ]
  },
  {
   "cell_type": "markdown",
   "metadata": {},
   "source": [
    "Red Neuronal de 3 capas:"
   ]
  },
  {
   "cell_type": "code",
   "execution_count": 22,
   "metadata": {},
   "outputs": [],
   "source": [
    "D = X_train_vec.shape[1]\n",
    "K = 2\n",
    "\n",
    "# Numero de neuronas por capas\n",
    "nn_layer_1 = D\n",
    "nn_layer_2 = 200\n",
    "nn_layer_3 = K\n",
    "\n",
    "def initialize_parameters(nn_input_dim,nn_hdim,nn_output_dim):\n",
    "    # First layer weights\n",
    "    np.random.seed(0)\n",
    "    mu, sigma = 0, 0.1\n",
    "    \n",
    "    W1 = np.random.normal(mu, sigma, (nn_input_dim, nn_hdim))\n",
    "#     W1 = np.zeros((nn_input_dim, nn_hdim))\n",
    "    \n",
    "    # First layer bias\n",
    "    b1 = np.random.normal(mu, sigma, (nn_hdim, 1))\n",
    "#     b1 = np.zeros((nn_hdim, 1))\n",
    "    \n",
    "    # Second layer weights\n",
    "    W2 = np.random.normal(mu, sigma, (nn_hdim, nn_output_dim))\n",
    "#     W2 = np.zeros((nn_hdim, nn_output_dim))\n",
    "    \n",
    "    # Second layer bias\n",
    "    b2 = np.random.normal(mu, sigma, (nn_output_dim, 1))\n",
    "#     b2 = np.zeros((nn_output_dim, 1))\n",
    "    \n",
    "    \n",
    "    # Package and return model\n",
    "    model = { 'W1': W1, 'b1': b1, 'W2': W2, 'b2': b2}\n",
    "    return model"
   ]
  },
  {
   "cell_type": "markdown",
   "metadata": {},
   "source": [
    "Non Linear function for hidden layers:"
   ]
  },
  {
   "cell_type": "code",
   "execution_count": 12,
   "metadata": {},
   "outputs": [],
   "source": [
    "def relu(x):\n",
    "    return np.maximum(x, 0)"
   ]
  },
  {
   "cell_type": "code",
   "execution_count": 13,
   "metadata": {},
   "outputs": [],
   "source": [
    "def relu_deriv(x):\n",
    "    x[x<=0] = 0.0\n",
    "    x[x>0] = 1.0\n",
    "#     for i in range(x.shape[0]):\n",
    "#         x[i] = [(el>0 and 1 or 0) for el in x[i,:]]\n",
    "    return x"
   ]
  },
  {
   "cell_type": "markdown",
   "metadata": {},
   "source": [
    "Non Linear function for output layers:"
   ]
  },
  {
   "cell_type": "markdown",
   "metadata": {},
   "source": [
    "Softmax:"
   ]
  },
  {
   "cell_type": "code",
   "execution_count": 14,
   "metadata": {},
   "outputs": [],
   "source": [
    "def softmax(z):\n",
    "    return np.exp(z-np.max(z))/np.sum(np.exp(z-np.max(z)), axis=0)"
   ]
  },
  {
   "cell_type": "markdown",
   "metadata": {},
   "source": [
    "loss function for binary classification:"
   ]
  },
  {
   "cell_type": "code",
   "execution_count": 15,
   "metadata": {},
   "outputs": [],
   "source": [
    "def compute_cost(y, y_hat):\n",
    "    \"\"\"\n",
    "    y_hat is the predictions(1 x num_samples)\n",
    "    y is labels (1 x num_samples)\n",
    "    \"\"\"\n",
    "    m = y.shape[0]\n",
    "    L = np.sum(-np.log(y_hat[y,range(m)]))/m\n",
    "    return L"
   ]
  },
  {
   "cell_type": "code",
   "execution_count": null,
   "metadata": {},
   "outputs": [],
   "source": []
  },
  {
   "cell_type": "code",
   "execution_count": 16,
   "metadata": {},
   "outputs": [],
   "source": [
    "def delta_cross_entropy(y, y_hat):    \n",
    "    ### START CODE HERE ### (≈ 4 lines of code)\n",
    "\n",
    "    m = y.shape[0]\n",
    "    y_hat[y,range(m)] -= 1\n",
    "    y_hat = y_hat/m\n",
    "    ### END CODE HERE ###\n",
    "    \n",
    "    return y_hat"
   ]
  },
  {
   "cell_type": "code",
   "execution_count": null,
   "metadata": {},
   "outputs": [],
   "source": []
  },
  {
   "cell_type": "code",
   "execution_count": 17,
   "metadata": {},
   "outputs": [],
   "source": [
    "def propagate_two_layer(W1, b1, W2, b2, X, y, use_reg=False, reg_lambda=0.01):\n",
    "    \"\"\"\n",
    "    Implement the cost function and its gradient for the propagation explained above\n",
    "\n",
    "    Arguments:\n",
    "    W -- weights, a numpy array of size (num_px * num_px * 3, 1)\n",
    "    b -- bias, a scalar\n",
    "    X -- data of size (num_px * num_px * 3, number of examples)\n",
    "    Y -- true \"label\" vector (containing 0 if non-cat, 1 if cat) of size (1, number of examples)\n",
    "\n",
    "    Return:\n",
    "    cost -- negative log-likelihood cost for logistic regression\n",
    "    dW -- gradient of the loss with respect to w, thus same shape as w\n",
    "    db -- gradient of the loss with respect to b, thus same shape as b\n",
    "    \n",
    "    Tips:\n",
    "    - Write your code step by step for the propagation. np.log(), np.dot()\n",
    "    \"\"\"\n",
    "    \n",
    "    m = X.shape[0]\n",
    "#     print(\"propagate_two_layer X.shape: \", m)\n",
    "    num_examples = X.shape[0]\n",
    "    # FORWARD PROPAGATION (FROM X TO COST)\n",
    "    ### START CODE HERE ### (≈ 5 lines of code), one hidden layer, first layer with RELU, activation: softmax\n",
    "\n",
    "#     X12 = np.maximum(np.dot(W1.T, X.T)+b1, 0)\n",
    "    A0 = X.T\n",
    "#     A1 = np.tanh(np.dot(W1.T, A0)+b1)\n",
    "    A1 = relu_deriv(np.dot(W1.T, A0)+b1)\n",
    "    A2 = softmax(np.dot(W2.T, A1)+b2)\n",
    "    \n",
    "    cost = compute_cost(y, y_hat=A2)\n",
    "    \n",
    "    ### END CODE HERE ###\n",
    "    \n",
    "    if use_reg:\n",
    "        ### START CODE HERE ###  (≈ 2 add regularization here)\n",
    "        \n",
    "        reg_cost = 0.5 * reg_lambda * np.sum(W1*W1) + 0.5 * reg_lambda * np.sum(W2*W2)\n",
    "        cost = cost + reg_cost\n",
    "        \n",
    "        ### END CODE HERE ###\n",
    "    \n",
    "    # BACKWARD PROPAGATION (TO FIND GRAD)\n",
    "    ### START CODE HERE ### (≈ 3 lines of code)\n",
    "    \n",
    "    dz2 = delta_cross_entropy(y=y, y_hat=A2)\n",
    "  \n",
    "    # backpropate the gradient to the parameters\n",
    "    # first backprop into parameters W2 and b2\n",
    "    dW2 = np.dot(A1, dz2.T)/m\n",
    "    db2 = np.sum(dz2, axis=1)[:, np.newaxis]/m\n",
    "    \n",
    "    # next backprop into hidden layer\n",
    "#     dhidden = ...\n",
    "    dz1 = np.dot(W2, dz2)*relu_deriv(A1)\n",
    "  \n",
    "    # backprop the ReLU non-linearity (changed to Tanh)\n",
    "    \n",
    "    \n",
    "    # finally backprop into parameters W1 and b1\n",
    "    dW1 = np.dot(A0, dz1.T)/m\n",
    "    db1 = np.sum(dz1, axis=1)[:, np.newaxis]/m\n",
    "    ### END CODE HERE ###\n",
    "    \n",
    "    if use_reg:\n",
    "        ### START CODE HERE ###  (≈ 2 add backprop regularization here)\n",
    "        dW1 += reg_lambda*W1\n",
    "        dW2 += reg_lambda*W2\n",
    "        ### END CODE HERE ###\n",
    "\n",
    "    assert(dW1.shape == W1.shape)\n",
    "    assert(db1.dtype == float)\n",
    "    assert(dW2.shape == W2.shape)\n",
    "    assert(db2.dtype == float)\n",
    "    cost = np.squeeze(cost)\n",
    "    assert(cost.shape == ())\n",
    "    \n",
    "    grads = {\"dW1\": dW1,\n",
    "             \"db1\": db1,\n",
    "             \"dW2\": dW2,\n",
    "             \"db2\": db2}\n",
    "    \n",
    "    return grads, cost"
   ]
  },
  {
   "cell_type": "code",
   "execution_count": null,
   "metadata": {},
   "outputs": [],
   "source": []
  },
  {
   "cell_type": "code",
   "execution_count": 18,
   "metadata": {},
   "outputs": [],
   "source": [
    "def optimize_two_layer(W1, b1, W2, b2, X, y, num_iterations, learning_rate, use_reg = False, reg_lambda = 0.01, print_cost = False):\n",
    "    \"\"\"\n",
    "    This function optimizes w and b by running a gradient descent algorithm\n",
    "    \n",
    "    Arguments:\n",
    "    w -- weights, a numpy array of size (num_px * num_px * 3, 1)\n",
    "    b -- bias, a scalar\n",
    "    X -- data of shape (num_px * num_px * 3, number of examples)\n",
    "    Y -- true \"label\" vector (containing 0 if non-cat, 1 if cat), of shape (1, number of examples)\n",
    "    num_iterations -- number of iterations of the optimization loop\n",
    "    learning_rate -- learning rate of the gradient descent update rule\n",
    "    use_reg -- use regularization\n",
    "    reg_lambda -- regularization weight\n",
    "    print_cost -- True to print the loss every 100 steps\n",
    "    \n",
    "    Returns:\n",
    "    params -- dictionary containing the weights w and bias b\n",
    "    grads -- dictionary containing the gradients of the weights and bias with respect to the cost function\n",
    "    costs -- list of all the costs computed during the optimization, this will be used to plot the learning curve.\n",
    "    \n",
    "    Tips:\n",
    "    You basically need to write down two steps and iterate through them:\n",
    "        1) Calculate the cost and the gradient for the current parameters. Use propagate().\n",
    "        2) Update the parameters using gradient descent rule for w and b.\n",
    "    \"\"\"\n",
    "    \n",
    "    costs = []\n",
    "    \n",
    "    for ii in range(num_iterations):\n",
    "        \n",
    "        # Cost and gradient calculation (≈ 1-4 lines of code)\n",
    "        ### START CODE HERE ### \n",
    "        \n",
    "        grads, cost = propagate_two_layer(W1, b1, W2, b2, X, y, use_reg=use_reg, reg_lambda=reg_lambda)\n",
    "\n",
    "        ### END CODE HERE ###\n",
    "        \n",
    "        # Retrieve derivatives from grads\n",
    "        dW1 = grads[\"dW1\"]\n",
    "        db1 = grads[\"db1\"]\n",
    "        dW2 = grads[\"dW2\"]\n",
    "        db2 = grads[\"db2\"]\n",
    "        \n",
    "        # update rule (≈ 4 lines of code)\n",
    "        ### START CODE HERE ###\n",
    "        W1 = W1 - learning_rate*dW1\n",
    "        b1 = b1 - learning_rate*db1\n",
    "        W2 = W2 - learning_rate*dW2\n",
    "        b2 = b2 - learning_rate*db2\n",
    "        ### END CODE HERE ###\n",
    "        \n",
    "        # Record the costs\n",
    "        if ii % 100 == 0:\n",
    "            costs.append(cost)\n",
    "        \n",
    "        # Print the cost every 200 training iterations\n",
    "        if print_cost and ii % 100 == 0:\n",
    "            print (\"Cost after iteration %i: %f\" %(ii, cost))\n",
    "    \n",
    "    params = {\"W1\": W1,\n",
    "              \"b1\": b1,\n",
    "              \"W2\": W2,\n",
    "              \"b2\": b2}\n",
    "    \n",
    "    grads = {\"dW1\": dW1,\n",
    "             \"db1\": db1,\n",
    "             \"dW2\": dW2,\n",
    "             \"db2\": db2}\n",
    "    \n",
    "    return params, grads, costs"
   ]
  },
  {
   "cell_type": "code",
   "execution_count": null,
   "metadata": {},
   "outputs": [],
   "source": []
  },
  {
   "cell_type": "code",
   "execution_count": 19,
   "metadata": {},
   "outputs": [],
   "source": [
    "def predict_two_layer(W1, b1, W2, b2, X):\n",
    "    '''\n",
    "    Predict whether the label is 0 or 1 using learned logistic regression parameters (w, b)\n",
    "    \n",
    "    Arguments:\n",
    "    w -- weights, a numpy array of size (num_px * num_px * 3, 1)\n",
    "    b -- bias, a scalar\n",
    "    X -- data of size (num_px * num_px * 3, number of examples)\n",
    "    \n",
    "    Returns:\n",
    "    Y_prediction -- a numpy array (vector) containing all predictions (0/1) for the examples in X\n",
    "    '''\n",
    "    m = X.shape[0]\n",
    "    \n",
    "    # Compute vector \"A\" predicting the probabilities of a cat being present in the picture\n",
    "    ### START CODE HERE ### (≈ 3 lines of code)\n",
    "\n",
    "    A0 = X.T\n",
    "#     A1 = np.tanh(np.dot(W1.T, X.T)+b1)\n",
    "    A1 = relu(np.dot(W1.T, A0)+b1)\n",
    "    A2 = softmax(np.dot(W2.T, A1)+b2)\n",
    "\n",
    "    ### END CODE HERE ###\n",
    "    \n",
    "    predicted_class = np.argmax(A2, axis=0)\n",
    "    \n",
    "    assert(predicted_class.shape == (m,))\n",
    "    \n",
    "    return predicted_class"
   ]
  },
  {
   "cell_type": "code",
   "execution_count": null,
   "metadata": {},
   "outputs": [],
   "source": []
  },
  {
   "cell_type": "code",
   "execution_count": 23,
   "metadata": {},
   "outputs": [],
   "source": [
    "def train_two_layer(X_train, y_train, K=2, h_neurons=100, num_iterations=2000, learning_rate=0.5, use_reg=False, reg_lambda=0.01, init_type='random', print_cost=False):\n",
    "    \"\"\"\n",
    "    Builds the logistic regression model by calling the function you've implemented previously\n",
    "    \n",
    "    Arguments:\n",
    "    X_train -- training set represented by a numpy array of shape (num_px * num_px * 3, m_train)\n",
    "    Y_train -- training labels represented by a numpy array (vector) of shape (1, m_train)\n",
    "    X_test -- test set represented by a numpy array of shape (num_px * num_px * 3, m_test)\n",
    "    Y_test -- test labels represented by a numpy array (vector) of shape (1, m_test)\n",
    "    num_iterations -- hyperparameter representing the number of iterations to optimize the parameters\n",
    "    learning_rate -- hyperparameter representing the learning rate used in the update rule of optimize()\n",
    "    print_cost -- Set to true to print the cost every 100 iterations\n",
    "    \n",
    "    Returns:\n",
    "    d -- dictionary containing information about the model.\n",
    "    \"\"\"\n",
    "    \n",
    "    ### START CODE HERE ###\n",
    "    \n",
    "    # initialize parameters with zeros (≈ 2 lines of code)\n",
    "    model = initialize_parameters(D, h_neurons, K)\n",
    "    W1, b1, W2, b2 = model['W1'], model['b1'], model['W2'], model['b2']\n",
    "\n",
    "    # Gradient descent (≈ 1 line of code)\n",
    "#     for i in range(450):\n",
    "#     X_train_batch = X_train[(i*100):((i+1)*100),:]\n",
    "#     y_train_batch = y_train[(i*100):((i+1)*100)]\n",
    "\n",
    "#         print(\"X_train_batch.shape: \", X_train_batch.shape)\n",
    "    parameters, grads, costs = optimize_two_layer(W1, b1, W2, b2, X_train, y_train, num_iterations, learning_rate, use_reg = use_reg, reg_lambda = reg_lambda, print_cost = print_cost)\n",
    "\n",
    "    # Retrieve parameters w and b from dictionary \"parameters\"\n",
    "    W1 = parameters[\"W1\"]\n",
    "    b1 = parameters[\"b1\"]\n",
    "    W2 = parameters[\"W2\"]\n",
    "    b2 = parameters[\"b2\"]\n",
    "    \n",
    "    Y_prediction_train = predict_two_layer(W1, b1, W2, b2, X_train)\n",
    "    \n",
    "    # Print train/test Errors\n",
    "    print('training accuracy: %.2f' % (np.mean(Y_prediction_train == y_train)))\n",
    "    print('Y_prediction_train.shape: ', Y_prediction_train.shape)\n",
    "    \n",
    "    d = {\"costs\": costs,\n",
    "         \"W1\" : W1, \n",
    "         \"b1\" : b1,\n",
    "         \"W2\" : W2, \n",
    "         \"b2\" : b2,\n",
    "         \"learning_rate\" : learning_rate,\n",
    "         \"num_iterations\": num_iterations,\n",
    "         \"predictions\": Y_prediction_train}\n",
    "    \n",
    "    return d"
   ]
  },
  {
   "cell_type": "code",
   "execution_count": null,
   "metadata": {},
   "outputs": [],
   "source": []
  },
  {
   "cell_type": "code",
   "execution_count": null,
   "metadata": {},
   "outputs": [
    {
     "name": "stdout",
     "output_type": "stream",
     "text": [
      "Exception reporting mode: Plain\n",
      "Automatic pdb calling has been turned ON\n",
      "Cost after iteration 0: 1.112110\n",
      "Cost after iteration 100: 1.027893\n",
      "Cost after iteration 200: 0.961165\n",
      "Cost after iteration 300: 0.908225\n",
      "Cost after iteration 400: 0.866511\n",
      "Cost after iteration 500: 0.833147\n",
      "Cost after iteration 600: 0.806718\n",
      "Cost after iteration 700: 0.785425\n"
     ]
    }
   ],
   "source": [
    "%xmode Plain\n",
    "%pdb on\n",
    "d =  train_two_layer(np.float64(X_train_vec), y_train, K=2,  h_neurons=100, num_iterations=2000, learning_rate= 1, use_reg=True, reg_lambda=1e-3, print_cost=True)"
   ]
  },
  {
   "cell_type": "code",
   "execution_count": null,
   "metadata": {},
   "outputs": [],
   "source": []
  },
  {
   "cell_type": "code",
   "execution_count": null,
   "metadata": {},
   "outputs": [],
   "source": []
  },
  {
   "cell_type": "code",
   "execution_count": null,
   "metadata": {},
   "outputs": [],
   "source": []
  },
  {
   "cell_type": "code",
   "execution_count": null,
   "metadata": {
    "collapsed": true
   },
   "outputs": [],
   "source": [
    "#import pyprind\n",
    "#pbar = pyprind.ProgBar(45)\n",
    "\n",
    "# classes = np.array([0, 1])\n",
    "# for _ in range(45):\n",
    "#     X_train, y_train = get_minibatch(doc_stream, size=1000)\n",
    "#     X_train = vect.transform(X_train).toarray()\n",
    "#     clf.partial_fit(X_train, y_train, classes=classes)\n",
    "#     #pbar.update()\n",
    "    \n",
    "Y_prediction_train = predict_two_layer(d[\"W1\"], d[\"b1\"], d[\"W2\"], d[\"b2\"], X_test)\n",
    "print('training accuracy: %.2f' % (np.mean(Y_prediction_train == y_test)))"
   ]
  },
  {
   "cell_type": "markdown",
   "metadata": {},
   "source": [
    "Depending on your machine, it will take about 2-3 minutes to stream the documents and learn the weights for the logistic regression model to classify \"new\" movie reviews. Executing the preceding code, we used the first 45,000 movie reviews to train the classifier, which means that we have 5,000 reviews left for testing:"
   ]
  },
  {
   "cell_type": "code",
   "execution_count": null,
   "metadata": {},
   "outputs": [],
   "source": [
    "X_test, y_test = get_minibatch(doc_stream, size=5000)\n",
    "X_test = vect.transform(X_test)\n",
    "print('Accuracy: %.3f' % clf.score(X_test, y_test))\n",
    "#Exercise 3: compare  with your Neural Network"
   ]
  },
  {
   "cell_type": "markdown",
   "metadata": {},
   "source": [
    "I think that the predictive performance, an accuracy of ~87%, is quite \"reasonable\" given that we \"only\" used the default parameters and didn't do any hyperparameter optimization. \n",
    "\n",
    "After we estimated the model perfomance, let us use those last 5,000 test samples to update our model."
   ]
  },
  {
   "cell_type": "code",
   "execution_count": null,
   "metadata": {
    "collapsed": true
   },
   "outputs": [],
   "source": [
    "clf = clf.partial_fit(X_test, y_test)"
   ]
  },
  {
   "cell_type": "markdown",
   "metadata": {},
   "source": [
    "<br>\n",
    "<br>"
   ]
  },
  {
   "cell_type": "markdown",
   "metadata": {},
   "source": [
    "# Model Persistence"
   ]
  },
  {
   "cell_type": "markdown",
   "metadata": {},
   "source": [
    "In the previous section, we successfully trained a model to predict the sentiment of a movie review. Unfortunately, if we'd close this IPython notebook at this point, we'd have to go through the whole learning process again and again if we'd want to make a prediction on \"new data.\"\n",
    "\n",
    "So, to reuse this model, we could use the [`pickle`](https://docs.python.org/3.5/library/pickle.html) module to \"serialize a Python object structure\". Or even better, we could use the [`joblib`](https://pypi.python.org/pypi/joblib) library, which handles large NumPy arrays more efficiently.\n",
    "\n",
    "To install:\n",
    "conda install -c anaconda joblib"
   ]
  },
  {
   "cell_type": "code",
   "execution_count": null,
   "metadata": {},
   "outputs": [],
   "source": [
    "import joblib\n",
    "import os\n",
    "if not os.path.exists('./pkl_objects'):\n",
    "    os.mkdir('./pkl_objects')\n",
    "    \n",
    "joblib.dump(vect, './vectorizer.pkl')\n",
    "joblib.dump(clf, './clf.pkl')"
   ]
  },
  {
   "cell_type": "markdown",
   "metadata": {},
   "source": [
    "Using the code above, we \"pickled\" the `HashingVectorizer` and the `SGDClassifier` so that we can re-use those objects later. However, `pickle` and `joblib` have a known issue with `pickling` objects or functions from a `__main__` block and we'd get an `AttributeError: Can't get attribute [x] on <module '__main__'>` if we'd unpickle it later. Thus, to pickle the `tokenizer` function, we can write it to a file and import it to get the `namespace` \"right\"."
   ]
  },
  {
   "cell_type": "code",
   "execution_count": null,
   "metadata": {},
   "outputs": [],
   "source": [
    "%%writefile tokenizer.py\n",
    "from nltk.stem.porter import PorterStemmer\n",
    "import re\n",
    "from nltk.corpus import stopwords\n",
    "\n",
    "stop = stopwords.words('english')\n",
    "porter = PorterStemmer()\n",
    "\n",
    "def tokenizer(text):\n",
    "    text = re.sub('<[^>]*>', '', text)\n",
    "    emoticons = re.findall('(?::|;|=)(?:-)?(?:\\)|\\(|D|P)', text.lower())\n",
    "    text = re.sub('[\\W]+', ' ', text.lower()) + ' '.join(emoticons).replace('-', '')\n",
    "    text = [w for w in text.split() if w not in stop]\n",
    "    tokenized = [porter.stem(w) for w in text]\n",
    "    return text"
   ]
  },
  {
   "cell_type": "code",
   "execution_count": null,
   "metadata": {},
   "outputs": [],
   "source": [
    "from tokenizer import tokenizer\n",
    "joblib.dump(tokenizer, './tokenizer.pkl')"
   ]
  },
  {
   "cell_type": "markdown",
   "metadata": {},
   "source": [
    "Now, let us restart this IPython notebook and check if the we can load our serialized objects:"
   ]
  },
  {
   "cell_type": "code",
   "execution_count": null,
   "metadata": {
    "collapsed": true
   },
   "outputs": [],
   "source": [
    "import joblib\n",
    "tokenizer = joblib.load('./tokenizer.pkl')\n",
    "vect = joblib.load('./vectorizer.pkl')\n",
    "clf = joblib.load('./clf.pkl')"
   ]
  },
  {
   "cell_type": "markdown",
   "metadata": {},
   "source": [
    "After loading the `tokenizer`, `HashingVectorizer`, and the tranined logistic regression model, we can use it to make predictions on new data, which can be useful, for example, if we'd want to embed our classifier into a web application -- a topic for another IPython notebook."
   ]
  },
  {
   "cell_type": "code",
   "execution_count": null,
   "metadata": {},
   "outputs": [],
   "source": [
    "example = ['I did not like this movie']\n",
    "X = vect.transform(example)\n",
    "clf.predict(X)"
   ]
  },
  {
   "cell_type": "code",
   "execution_count": null,
   "metadata": {},
   "outputs": [],
   "source": [
    "example = ['I loved this movie']\n",
    "X = vect.transform(example)\n",
    "clf.predict(X)"
   ]
  },
  {
   "cell_type": "code",
   "execution_count": null,
   "metadata": {
    "collapsed": true
   },
   "outputs": [],
   "source": []
  }
 ],
 "metadata": {
  "kernelspec": {
   "display_name": "Python 3",
   "language": "python",
   "name": "python3"
  },
  "language_info": {
   "codemirror_mode": {
    "name": "ipython",
    "version": 3
   },
   "file_extension": ".py",
   "mimetype": "text/x-python",
   "name": "python",
   "nbconvert_exporter": "python",
   "pygments_lexer": "ipython3",
   "version": "3.6.5"
  }
 },
 "nbformat": 4,
 "nbformat_minor": 2
}
