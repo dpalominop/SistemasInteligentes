{
 "cells": [
  {
   "cell_type": "markdown",
   "metadata": {},
   "source": [
    "# Logistic Regression for Sentiment Analysis"
   ]
  },
  {
   "cell_type": "markdown",
   "metadata": {},
   "source": [
    "Adapted from http://nbviewer.jupyter.org/github/rasbt/pattern_classification/blob/master/machine_learning/scikit-learn/outofcore_modelpersistence.ipynb"
   ]
  },
  {
   "cell_type": "markdown",
   "metadata": {},
   "source": [
    "<br>\n",
    "<br>"
   ]
  },
  {
   "cell_type": "markdown",
   "metadata": {},
   "source": [
    "## The IMDb Movie Review Dataset"
   ]
  },
  {
   "cell_type": "markdown",
   "metadata": {},
   "source": [
    "In this section, we will train a simple logistic regression model to classify movie reviews from the 50k IMDb review dataset that has been collected by Maas et. al.\n",
    "\n",
    "> AL Maas, RE Daly, PT Pham, D Huang, AY Ng, and C Potts. Learning word vectors for sentiment analysis. In Proceedings of the 49th Annual Meeting of the Association for Computational Lin- guistics: Human Language Technologies, pages 142–150, Portland, Oregon, USA, June 2011. Association for Computational Linguistics\n",
    "\n",
    "[Source: http://ai.stanford.edu/~amaas/data/sentiment/]\n",
    "\n",
    "The dataset consists of 50,000 movie reviews from the original \"train\" and \"test\" subdirectories. The class labels are binary (1=positive and 0=negative) and contain 25,000 positive and 25,000 negative movie reviews, respectively.\n",
    "For simplicity, I assembled the reviews in a single CSV file.\n"
   ]
  },
  {
   "cell_type": "code",
   "execution_count": 1,
   "metadata": {},
   "outputs": [
    {
     "data": {
      "text/html": [
       "<div>\n",
       "<style scoped>\n",
       "    .dataframe tbody tr th:only-of-type {\n",
       "        vertical-align: middle;\n",
       "    }\n",
       "\n",
       "    .dataframe tbody tr th {\n",
       "        vertical-align: top;\n",
       "    }\n",
       "\n",
       "    .dataframe thead th {\n",
       "        text-align: right;\n",
       "    }\n",
       "</style>\n",
       "<table border=\"1\" class=\"dataframe\">\n",
       "  <thead>\n",
       "    <tr style=\"text-align: right;\">\n",
       "      <th></th>\n",
       "      <th>review</th>\n",
       "      <th>sentiment</th>\n",
       "    </tr>\n",
       "  </thead>\n",
       "  <tbody>\n",
       "    <tr>\n",
       "      <th>49995</th>\n",
       "      <td>This piece of crap, since I can't call it a mo...</td>\n",
       "      <td>0</td>\n",
       "    </tr>\n",
       "    <tr>\n",
       "      <th>49996</th>\n",
       "      <td>This indie film looks at the lives of a group ...</td>\n",
       "      <td>1</td>\n",
       "    </tr>\n",
       "    <tr>\n",
       "      <th>49997</th>\n",
       "      <td>Bride of Chucky starts late one night as Offic...</td>\n",
       "      <td>1</td>\n",
       "    </tr>\n",
       "    <tr>\n",
       "      <th>49998</th>\n",
       "      <td>Frank Sinatra starred in this odd little short...</td>\n",
       "      <td>1</td>\n",
       "    </tr>\n",
       "    <tr>\n",
       "      <th>49999</th>\n",
       "      <td>I saw this black and white comedy noir yesterd...</td>\n",
       "      <td>1</td>\n",
       "    </tr>\n",
       "  </tbody>\n",
       "</table>\n",
       "</div>"
      ],
      "text/plain": [
       "                                                  review  sentiment\n",
       "49995  This piece of crap, since I can't call it a mo...          0\n",
       "49996  This indie film looks at the lives of a group ...          1\n",
       "49997  Bride of Chucky starts late one night as Offic...          1\n",
       "49998  Frank Sinatra starred in this odd little short...          1\n",
       "49999  I saw this black and white comedy noir yesterd...          1"
      ]
     },
     "execution_count": 1,
     "metadata": {},
     "output_type": "execute_result"
    }
   ],
   "source": [
    "import pandas as pd\n",
    "# if you want to download the original file:\n",
    "#df = pd.read_csv('https://raw.githubusercontent.com/rasbt/pattern_classification/master/data/50k_imdb_movie_reviews.csv')\n",
    "# otherwise load local file\n",
    "#df[['review', 'sentiment']].to_csv('shuffled_movie_data.csv', index=False)\n",
    "df = pd.read_csv('shuffled_movie_data.csv')\n",
    "df.tail()"
   ]
  },
  {
   "cell_type": "markdown",
   "metadata": {},
   "source": [
    "Let us shuffle the class labels."
   ]
  },
  {
   "cell_type": "code",
   "execution_count": 2,
   "metadata": {
    "collapsed": true
   },
   "outputs": [
    {
     "data": {
      "text/html": [
       "<div>\n",
       "<style scoped>\n",
       "    .dataframe tbody tr th:only-of-type {\n",
       "        vertical-align: middle;\n",
       "    }\n",
       "\n",
       "    .dataframe tbody tr th {\n",
       "        vertical-align: top;\n",
       "    }\n",
       "\n",
       "    .dataframe thead th {\n",
       "        text-align: right;\n",
       "    }\n",
       "</style>\n",
       "<table border=\"1\" class=\"dataframe\">\n",
       "  <thead>\n",
       "    <tr style=\"text-align: right;\">\n",
       "      <th></th>\n",
       "      <th>review</th>\n",
       "      <th>sentiment</th>\n",
       "    </tr>\n",
       "  </thead>\n",
       "  <tbody>\n",
       "    <tr>\n",
       "      <th>11841</th>\n",
       "      <td>This is the movie that finally pushed me over ...</td>\n",
       "      <td>1</td>\n",
       "    </tr>\n",
       "    <tr>\n",
       "      <th>19602</th>\n",
       "      <td>So what is one to do if you are a porno star w...</td>\n",
       "      <td>0</td>\n",
       "    </tr>\n",
       "    <tr>\n",
       "      <th>45519</th>\n",
       "      <td>Most of the French films I've seen - and enjoy...</td>\n",
       "      <td>0</td>\n",
       "    </tr>\n",
       "    <tr>\n",
       "      <th>25747</th>\n",
       "      <td>I am a big fan of Stephen King. I loved The Ru...</td>\n",
       "      <td>0</td>\n",
       "    </tr>\n",
       "    <tr>\n",
       "      <th>42642</th>\n",
       "      <td>Yes Pigeon and Coburn are great, and it's inte...</td>\n",
       "      <td>0</td>\n",
       "    </tr>\n",
       "  </tbody>\n",
       "</table>\n",
       "</div>"
      ],
      "text/plain": [
       "                                                  review  sentiment\n",
       "11841  This is the movie that finally pushed me over ...          1\n",
       "19602  So what is one to do if you are a porno star w...          0\n",
       "45519  Most of the French films I've seen - and enjoy...          0\n",
       "25747  I am a big fan of Stephen King. I loved The Ru...          0\n",
       "42642  Yes Pigeon and Coburn are great, and it's inte...          0"
      ]
     },
     "execution_count": 2,
     "metadata": {},
     "output_type": "execute_result"
    }
   ],
   "source": [
    "import numpy as np\n",
    "## uncomment these lines if you have dowloaded the original file:\n",
    "np.random.seed(0)\n",
    "df = df.reindex(np.random.permutation(df.index))\n",
    "df[['review', 'sentiment']].to_csv('shuffled_movie_data.csv', index=False)\n",
    "df.head()"
   ]
  },
  {
   "cell_type": "markdown",
   "metadata": {},
   "source": [
    "<br>\n",
    "<br>"
   ]
  },
  {
   "cell_type": "markdown",
   "metadata": {},
   "source": [
    "## Preprocessing Text Data"
   ]
  },
  {
   "cell_type": "markdown",
   "metadata": {},
   "source": [
    "Now, let us define a simple `tokenizer` that splits the text into individual word tokens. Furthermore, we will use some simple regular expression to remove HTML markup and all non-letter characters but \"emoticons,\" convert the text to lower case, remove stopwords, and apply the Porter stemming algorithm to convert the words into their root form."
   ]
  },
  {
   "cell_type": "code",
   "execution_count": 3,
   "metadata": {
    "collapsed": true
   },
   "outputs": [],
   "source": [
    "import numpy as np\n",
    "# from nltk.stem.porter import PorterStemmer\n",
    "import re\n",
    "import sys\n",
    "import time\n",
    "# import nltk\n",
    "# nltk.download('stopwords')\n",
    "# from nltk.corpus import stopwords\n",
    "\n",
    "# stop = stopwords.words('english')\n",
    "# porter = PorterStemmer()\n",
    "\n",
    "# def tokenizer(text):\n",
    "#     text = re.sub('<[^>]*>', '', text)\n",
    "#     emoticons = re.findall('(?::|;|=)(?:-)?(?:\\)|\\(|D|P)', text.lower())\n",
    "#     text = re.sub('[\\W]+', ' ', text.lower()) + ' '.join(emoticons).replace('-', '')\n",
    "#     text = [w for w in text.split() if w not in stop]\n",
    "#     tokenized = [porter.stem(w) for w in text]\n",
    "#     return text\n",
    "\n",
    "from nltk.stem import WordNetLemmatizer\n",
    "\n",
    "wordnet_lemmatizer = WordNetLemmatizer()\n",
    "\n",
    "def tokenizer(text):\n",
    "    text = re.sub('<[^>]*>', '', text)\n",
    "    emoticons = re.findall('(?::|;|=)(?:-)?(?:\\)|\\(|D|P)', text.lower())\n",
    "    text = re.sub('[\\W]+', ' ', text.lower())\n",
    "    text = [w for w in text.split()]\n",
    "    tokenized = [wordnet_lemmatizer.lemmatize(w) for w in text]\n",
    "    return tokenized"
   ]
  },
  {
   "cell_type": "markdown",
   "metadata": {},
   "source": [
    "Let's give it at try:"
   ]
  },
  {
   "cell_type": "code",
   "execution_count": 4,
   "metadata": {},
   "outputs": [
    {
     "data": {
      "text/plain": [
       "['this', 'is', 'a', 'test']"
      ]
     },
     "execution_count": 4,
     "metadata": {},
     "output_type": "execute_result"
    }
   ],
   "source": [
    "tokenizer('This :) is a <a> test! :-)</br>')"
   ]
  },
  {
   "cell_type": "markdown",
   "metadata": {},
   "source": [
    "## Learning (SciKit)"
   ]
  },
  {
   "cell_type": "markdown",
   "metadata": {},
   "source": [
    "First, we define a generator that returns the document body and the corresponding class label:"
   ]
  },
  {
   "cell_type": "code",
   "execution_count": 5,
   "metadata": {
    "collapsed": true
   },
   "outputs": [],
   "source": [
    "def stream_docs(path):\n",
    "    with open(path, 'r', encoding=\"utf8\") as csv:\n",
    "        next(csv) # skip header\n",
    "        for line in csv:\n",
    "            text, label = line[:-3], int(line[-2])\n",
    "            yield text, label"
   ]
  },
  {
   "cell_type": "markdown",
   "metadata": {},
   "source": [
    "To conform that the `stream_docs` function fetches the documents as intended, let us execute the following code snippet before we implement the `get_minibatch` function:"
   ]
  },
  {
   "cell_type": "code",
   "execution_count": 6,
   "metadata": {},
   "outputs": [
    {
     "data": {
      "text/plain": [
       "('\"This is the movie that finally pushed me over the line into registering with IMDb so that I could vote for (and comment on) it. I\\'ve only recently come to appreciate well-produced \"\"war\"\" movies, and this is one of the most thoughtful I\\'ve seen.<br /><br />\"\"Stunning\"\" is the word that comes to mind when I think of this viewing experience. My husband and I watched this film last night for the first time. It is gently moving, yet exciting at the same time (not a contradiction). This story in the hands of Hollywood could have become just another smarmy, action-packed, Top Gun time-waster.<br /><br />The two lead actors playing Frantisek and Karel played off of each other marvelously well; and Krystof Hadek is a very \"\"pretty\"\" boy without seeming to exaggerate or exploit that fact. In terms of Hadek\\'s acting ability and appearance, my husband said (tongue-in-cheek), \"\"Well, he\\'s no Tom Cruise.\"\" I replied, \"\"Thank God!\"\" If you appreciate beautiful and understated acting, see this one.\"',\n",
       " 1)"
      ]
     },
     "execution_count": 6,
     "metadata": {},
     "output_type": "execute_result"
    }
   ],
   "source": [
    "next(stream_docs(path='shuffled_movie_data.csv'))"
   ]
  },
  {
   "cell_type": "code",
   "execution_count": null,
   "metadata": {},
   "outputs": [],
   "source": []
  },
  {
   "cell_type": "markdown",
   "metadata": {},
   "source": [
    "After we confirmed that our `stream_docs` functions works, we will now implement a `get_minibatch` function to fetch a specified number (`size`) of documents:"
   ]
  },
  {
   "cell_type": "code",
   "execution_count": 7,
   "metadata": {
    "collapsed": true
   },
   "outputs": [],
   "source": [
    "def get_minibatch(doc_stream, size):\n",
    "    docs, y = [], []\n",
    "    for _ in range(size):\n",
    "        text, label = next(doc_stream)\n",
    "        docs.append(text)\n",
    "        y.append(label)\n",
    "    return np.array(docs), np.array(y)"
   ]
  },
  {
   "cell_type": "code",
   "execution_count": 8,
   "metadata": {},
   "outputs": [
    {
     "name": "stderr",
     "output_type": "stream",
     "text": [
      "D:\\opt\\windows\\Anaconda3\\lib\\site-packages\\gensim\\utils.py:1197: UserWarning: detected Windows; aliasing chunkize to chunkize_serial\n",
      "  warnings.warn(\"detected Windows; aliasing chunkize to chunkize_serial\")\n"
     ]
    },
    {
     "name": "stdout",
     "output_type": "stream",
     "text": [
      "Done     \n",
      "\n",
      "50000\n"
     ]
    }
   ],
   "source": [
    "from gensim.models import Word2Vec\n",
    "from sklearn.decomposition import PCA\n",
    "import matplotlib.pyplot as plt\n",
    "\n",
    "doc_generator = stream_docs(path='shuffled_movie_data.csv')\n",
    "\n",
    "sentences = []\n",
    "labels    = []\n",
    "lengths   = []\n",
    "for idx, review in enumerate(doc_generator):\n",
    "    toVec = tokenizer(review[0])\n",
    "    sentences.append(toVec)\n",
    "    labels.append(review[1])\n",
    "    lengths.append(len(toVec))\n",
    "    sys.stdout.write('\\r{:5.2f}%'.format(100*(idx+1)/50000))\n",
    "sys.stdout.write('\\rDone     \\n\\n')  \n",
    "print(len(sentences))"
   ]
  },
  {
   "cell_type": "code",
   "execution_count": 9,
   "metadata": {},
   "outputs": [
    {
     "name": "stdout",
     "output_type": "stream",
     "text": [
      "trained!\n"
     ]
    }
   ],
   "source": [
    "emb_size = 40\n",
    "\n",
    "model = Word2Vec(sentences, size=emb_size, window=5, min_count=5, workers=4)\n",
    "print('trained!')"
   ]
  },
  {
   "cell_type": "code",
   "execution_count": 10,
   "metadata": {},
   "outputs": [
    {
     "name": "stdout",
     "output_type": "stream",
     "text": [
      "'woman' is similar to 'girl' with a score of 0.8719\n"
     ]
    }
   ],
   "source": [
    "sim = model.wv.most_similar(positive=['woman'], topn=1)\n",
    "print(\"'woman' is similar to '{}' with a score of {:1.4f}\".format(sim[0][0],sim[0][1]))"
   ]
  },
  {
   "cell_type": "code",
   "execution_count": 11,
   "metadata": {},
   "outputs": [
    {
     "name": "stdout",
     "output_type": "stream",
     "text": [
      "vocabulary size : 35327\n"
     ]
    }
   ],
   "source": [
    "print('vocabulary size :', len(model.wv.vocab.keys()))"
   ]
  },
  {
   "cell_type": "code",
   "execution_count": 12,
   "metadata": {},
   "outputs": [
    {
     "name": "stdout",
     "output_type": "stream",
     "text": [
      "embedding size :  (40,)\n"
     ]
    }
   ],
   "source": [
    "print('embedding size : ', model.wv['woman'].shape)"
   ]
  },
  {
   "cell_type": "code",
   "execution_count": 13,
   "metadata": {},
   "outputs": [],
   "source": [
    "class ReviewVectorizer:\n",
    "    def __init__(self, model, maxlen):\n",
    "        self.model  = model\n",
    "        self.maxlen = maxlen\n",
    "    def transform(self, reviews_tokenized):\n",
    "        n = len(reviews_tokenized)\n",
    "        vector = np.zeros((n, self.maxlen, emb_size), dtype=np.float16)\n",
    "        for idx, review in enumerate(reviews_tokenized):\n",
    "            for iw, word in enumerate(review):\n",
    "                if word in self.model.wv.vocab:\n",
    "                    vector[idx][iw] = self.model.wv[word]\n",
    "            sys.stdout.write('\\r{:5.2f}%'.format(100*(idx+1)/n))\n",
    "        sys.stdout.write('\\rDone     \\n\\n')                    \n",
    "        vector = vector.reshape((n, -1))\n",
    "        return vector"
   ]
  },
  {
   "cell_type": "code",
   "execution_count": 14,
   "metadata": {},
   "outputs": [],
   "source": [
    "MAXLEN = max(lengths)\n",
    "vectorizer = ReviewVectorizer(model, MAXLEN)"
   ]
  },
  {
   "cell_type": "code",
   "execution_count": 15,
   "metadata": {},
   "outputs": [
    {
     "name": "stdout",
     "output_type": "stream",
     "text": [
      "Done     \n",
      "\n"
     ]
    }
   ],
   "source": [
    "res = vectorizer.transform(sentences)"
   ]
  },
  {
   "cell_type": "code",
   "execution_count": 16,
   "metadata": {},
   "outputs": [],
   "source": [
    "assert (MAXLEN*emb_size == res.shape[1])"
   ]
  },
  {
   "cell_type": "code",
   "execution_count": 17,
   "metadata": {},
   "outputs": [
    {
     "name": "stdout",
     "output_type": "stream",
     "text": [
      "X_train shape:  (50000, 99920)\n",
      "y_train shape:  (50000, 1)\n"
     ]
    }
   ],
   "source": [
    "y_train = np.asarray(labels).reshape((-1, 1))\n",
    "X_train = res\n",
    "del res\n",
    "print('X_train shape: ',X_train.shape)\n",
    "print('y_train shape: ',y_train.shape)"
   ]
  },
  {
   "cell_type": "markdown",
   "metadata": {},
   "source": [
    "Next, we will make use of the \"hashing trick\" through scikit-learns [HashingVectorizer](http://scikit-learn.org/stable/modules/generated/sklearn.feature_extraction.text.HashingVectorizer.html) to create a bag-of-words model of our documents. Details of the bag-of-words model for document classification can be found at  [Naive Bayes and Text Classification I - Introduction and Theory](http://arxiv.org/abs/1410.5329)."
   ]
  },
  {
   "cell_type": "code",
   "execution_count": 18,
   "metadata": {},
   "outputs": [],
   "source": [
    "# from sklearn.feature_extraction.text import HashingVectorizer\n",
    "# vect = HashingVectorizer(decode_error='ignore', \n",
    "#                          n_features=2**21,\n",
    "#                          preprocessor=None, \n",
    "#                          tokenizer=tokenizer)\n",
    "\n",
    "# Exercise 1: define features based on word embeddings (pre-trained word2vec / Glove/Fastext emebddings can be used)\n",
    "# Define suitable d dimension, and sequence length\n",
    "# https://nathanrooy.github.io/posts/2018-03-22/word2vec-from-scratch-with-python-and-numpy/\n",
    "\n",
    "\n",
    "# doc_stream = stream_docs(path='shuffled_movie_data.csv')\n",
    "# X_train, y_train = get_minibatch(doc_stream, size=50000)\n",
    "# X_test, y_test = get_minibatch(doc_stream, size=5000)"
   ]
  },
  {
   "cell_type": "code",
   "execution_count": 19,
   "metadata": {},
   "outputs": [],
   "source": [
    "# from sklearn.feature_extraction.text import CountVectorizer\n",
    "# vectorizer = CountVectorizer(analyzer = \"word\", tokenizer = None, preprocessor = None, stop_words = None, max_features = 500) \n",
    "# train_data_features = vectorizer.fit_transform(X_train)\n",
    "# X_train_vec = vectorizer.transform(X_train).toarray()\n",
    "\n",
    "# X_train_vec.shape"
   ]
  },
  {
   "cell_type": "code",
   "execution_count": null,
   "metadata": {},
   "outputs": [],
   "source": []
  },
  {
   "cell_type": "markdown",
   "metadata": {},
   "source": [
    "Using the [SGDClassifier]() from scikit-learn, we will can instanciate a logistic regression classifier that learns from the documents incrementally using stochastic gradient descent. "
   ]
  },
  {
   "cell_type": "code",
   "execution_count": 20,
   "metadata": {
    "collapsed": true
   },
   "outputs": [],
   "source": [
    "# from sklearn.linear_model import SGDClassifier\n",
    "# clf = SGDClassifier(loss='log', random_state=1, n_iter=1)\n",
    "# doc_stream = stream_docs(path='shuffled_movie_data.csv')\n",
    "# Exercise 2: Define at least a Three layer neural network. Define its structure (number of hidden neurons, etc)\n",
    "# Define a nonlinear function for hidden layers.\n",
    "# Define a suitable loss function for binary classification\n",
    "# Implement the backpropagation algorithm for this structure\n",
    "# Do not use Keras / Tensorflow /PyTorch etc. libraries\n",
    "# Train the model using SGD\n"
   ]
  },
  {
   "cell_type": "markdown",
   "metadata": {},
   "source": [
    "Red Neuronal de 3 capas:"
   ]
  },
  {
   "cell_type": "code",
   "execution_count": 21,
   "metadata": {},
   "outputs": [],
   "source": [
    "D = X_train.shape[1]\n",
    "K = 2\n",
    "\n",
    "# Numero de neuronas por capas\n",
    "nn_layer_0 = D\n",
    "nn_layer_1 = 200\n",
    "nn_layer_2 = 200\n",
    "nn_layer_3 = K\n",
    "\n",
    "def initialize_parameters(nn_input_dim, nn_hdim, nn_output_dim):\n",
    "    # First layer weights\n",
    "    np.random.seed(0)\n",
    "    mu, sigma = 0, 0.1\n",
    "    \n",
    "    W1 = np.random.normal(mu, sigma, (nn_hdim, nn_input_dim))\n",
    "#     W1 = np.zeros((nn_input_dim, nn_hdim_1))\n",
    "    \n",
    "    # First layer bias\n",
    "#     b1 = np.random.normal(mu, sigma, (nn_hdim_1, 1))\n",
    "    b1 = np.zeros((nn_hdim, 1))\n",
    "    \n",
    "    # Second layer weights\n",
    "    W2 = np.random.normal(mu, sigma, (nn_hdim, nn_hdim))\n",
    "#     W2 = np.zeros((nn_hdim_1, nn_hdim_2))\n",
    "    \n",
    "    # Second layer bias\n",
    "#     b2 = np.random.normal(mu, sigma, (nn_hdim_2, 1))\n",
    "    b2 = np.zeros((nn_hdim, 1))\n",
    "    \n",
    "    # Thirs layer weights\n",
    "    W3 = np.random.normal(mu, sigma, (nn_output_dim, nn_hdim))\n",
    "#     W3 = np.zeros((nn_hdim_2, nn_output_dim))\n",
    "    \n",
    "    # Second layer bias\n",
    "#     b3 = np.random.normal(mu, sigma, (nn_output_dim, 1))\n",
    "    b3 = np.zeros((nn_output_dim, 1))\n",
    "    \n",
    "    \n",
    "    # Package and return model\n",
    "    model = { 'W1': W1, 'b1': b1, 'W2': W2, 'b2': b2, 'W3': W3, 'b3': b3}\n",
    "    return model"
   ]
  },
  {
   "cell_type": "markdown",
   "metadata": {},
   "source": [
    "Non Linear function for hidden layers:"
   ]
  },
  {
   "cell_type": "code",
   "execution_count": 22,
   "metadata": {},
   "outputs": [],
   "source": [
    "def relu(x):\n",
    "    return np.maximum(x, 0)"
   ]
  },
  {
   "cell_type": "code",
   "execution_count": 23,
   "metadata": {},
   "outputs": [],
   "source": [
    "def relu_deriv(x):\n",
    "    x[x<=0] = 0.0\n",
    "    x[x>0] = 1.0\n",
    "#     for i in range(x.shape[0]):\n",
    "#         x[i] = [(el>0 and 1 or 0) for el in x[i,:]]\n",
    "    return x"
   ]
  },
  {
   "cell_type": "markdown",
   "metadata": {},
   "source": [
    "Non Linear function for output layers:"
   ]
  },
  {
   "cell_type": "markdown",
   "metadata": {},
   "source": [
    "Softmax:"
   ]
  },
  {
   "cell_type": "code",
   "execution_count": 24,
   "metadata": {},
   "outputs": [],
   "source": [
    "def sigmoid(z):\n",
    "    \"\"\"\n",
    "    Compute the sigmoid of z\n",
    "\n",
    "    Arguments:\n",
    "    z -- A scalar or numpy array of any size.\n",
    "\n",
    "    Return:\n",
    "    s -- sigmoid(z)\n",
    "    \"\"\"\n",
    "    s = 1/(1.0+np.exp(-z))\n",
    "    return s"
   ]
  },
  {
   "cell_type": "code",
   "execution_count": 25,
   "metadata": {},
   "outputs": [],
   "source": [
    "def sigmoid_deriv(z):\n",
    "    \"\"\"\n",
    "    Compute the derivative of the sigmoid of z\n",
    "\n",
    "    Arguments:\n",
    "    z -- A scalar or numpy array of any size.\n",
    "\n",
    "    Return:\n",
    "    s -- sigmoid_deriv(z)\n",
    "    \"\"\"\n",
    "    s = sigmoid(z)*(1-sigmoid(z))\n",
    "    return s"
   ]
  },
  {
   "cell_type": "markdown",
   "metadata": {},
   "source": [
    "loss function for binary classification:"
   ]
  },
  {
   "cell_type": "code",
   "execution_count": 26,
   "metadata": {},
   "outputs": [],
   "source": [
    "def compute_cost(y, y_hat):\n",
    "    m = y.shape[1]\n",
    "    L = -1/m*np.sum(y*np.log(y_hat)+(1-y)*np.log(1-y_hat))\n",
    "    return L"
   ]
  },
  {
   "cell_type": "code",
   "execution_count": null,
   "metadata": {},
   "outputs": [],
   "source": []
  },
  {
   "cell_type": "code",
   "execution_count": 27,
   "metadata": {},
   "outputs": [],
   "source": [
    "# def delta_cross_entropy(y, y_hat):    \n",
    "#     ### START CODE HERE ### (≈ 4 lines of code)\n",
    "\n",
    "#     delta = (y_hat-y)*sigmoid_deriv()\n",
    "#     ### END CODE HERE ###\n",
    "    \n",
    "#     return y_hat"
   ]
  },
  {
   "cell_type": "code",
   "execution_count": null,
   "metadata": {},
   "outputs": [],
   "source": []
  },
  {
   "cell_type": "code",
   "execution_count": 28,
   "metadata": {},
   "outputs": [],
   "source": [
    "def propagate_two_layer(W1, b1, W2, b2, W3, b3, X, y, use_reg=False, reg_lambda=0.01):\n",
    "    \"\"\"\n",
    "    Implement the cost function and its gradient for the propagation explained above\n",
    "\n",
    "    Arguments:\n",
    "    W -- weights, a numpy array of size (num_px * num_px * 3, 1)\n",
    "    b -- bias, a scalar\n",
    "    X -- data of size (num_px * num_px * 3, number of examples)\n",
    "    Y -- true \"label\" vector (containing 0 if non-cat, 1 if cat) of size (1, number of examples)\n",
    "\n",
    "    Return:\n",
    "    cost -- negative log-likelihood cost for logistic regression\n",
    "    dW -- gradient of the loss with respect to w, thus same shape as w\n",
    "    db -- gradient of the loss with respect to b, thus same shape as b\n",
    "    \n",
    "    Tips:\n",
    "    - Write your code step by step for the propagation. np.log(), np.dot()\n",
    "    \"\"\"\n",
    "    \n",
    "    m = X.shape[0]\n",
    "#     print(\"propagate_two_layer X.shape: \", m)\n",
    "    num_examples = X.shape[0]\n",
    "    # FORWARD PROPAGATION (FROM X TO COST)\n",
    "    ### START CODE HERE ### (≈ 5 lines of code), one hidden layer, first layer with RELU, activation: softmax\n",
    "\n",
    "#     X12 = np.maximum(np.dot(W1.T, X.T)+b1, 0)\n",
    "    A0 = X.T\n",
    "#     A1 = np.tanh(np.dot(W1.T, A0)+b1)\n",
    "    Z1 = np.dot(W1, A0)+b1\n",
    "    A1 = relu(Z1)\n",
    "    Z2 = np.dot(W2, A1)+b2\n",
    "    A2 = relu(Z2)\n",
    "    Z3 = np.dot(W3, A2)+b3\n",
    "    A3 = sigmoid(Z3)\n",
    "    \n",
    "    cost = compute_cost(y.T, y_hat=A3)\n",
    "    \n",
    "    ### END CODE HERE ###\n",
    "    \n",
    "    if use_reg:\n",
    "        ### START CODE HERE ###  (≈ 2 add regularization here)\n",
    "        \n",
    "        reg_cost = 0.5 * reg_lambda * np.sum(W1*W1) + 0.5 * reg_lambda * np.sum(W2*W2) + 0.5 * reg_lambda * np.sum(W3*W3)\n",
    "        cost = cost + reg_cost\n",
    "        \n",
    "        ### END CODE HERE ###\n",
    "    \n",
    "    # BACKWARD PROPAGATION (TO FIND GRAD)\n",
    "    ### START CODE HERE ### (≈ 3 lines of code)\n",
    "    \n",
    "#     dz3 = delta_cross_entropy(y=y, y_hat=A3)\n",
    "    dz3 = (A3-y.T)*sigmoid_deriv(Z3)\n",
    "  \n",
    "    # backpropate the gradient to the parameters\n",
    "    # first backprop into parameters W2 and b2\n",
    "    dW3 = np.dot(dz3, A2.T)/m\n",
    "    db3 = np.sum(dz3, axis=1)[:, np.newaxis]/m\n",
    "    \n",
    "    # next backprop into hidden layer\n",
    "#     dhidden = ...\n",
    "    dz2 = np.dot(W3.T, dz3)*relu_deriv(Z2)\n",
    "    dW2 = np.dot(dz2, A1.T)/m\n",
    "    db2 = np.sum(dz2, axis=1)[:, np.newaxis]/m\n",
    "    ### END CODE HERE ###\n",
    "        \n",
    "    # next backprop into hidden layer\n",
    "#     dhidden = ...\n",
    "    dz1 = np.dot(W2.T, dz2)*relu_deriv(Z1)\n",
    "    dW1 = np.dot(dz1, A0.T)/m\n",
    "    db1 = np.sum(dz1, axis=1)[:, np.newaxis]/m\n",
    "    ### END CODE HERE ###\n",
    "    \n",
    "    if use_reg:\n",
    "        ### START CODE HERE ###  (≈ 2 add backprop regularization here)\n",
    "        dW1 += reg_lambda*W1\n",
    "        dW2 += reg_lambda*W2\n",
    "        dW3 += reg_lambda*W3\n",
    "        ### END CODE HERE ###\n",
    "\n",
    "    assert(dW1.shape == W1.shape)\n",
    "    assert(db1.dtype == float)\n",
    "    assert(dW2.shape == W2.shape)\n",
    "    assert(db2.dtype == float)\n",
    "    assert(dW3.shape == W3.shape)\n",
    "    assert(db3.dtype == float)\n",
    "    cost = np.squeeze(cost)\n",
    "    assert(cost.shape == ())\n",
    "    \n",
    "    grads = {\"dW1\": dW1,\n",
    "             \"db1\": db1,\n",
    "             \"dW2\": dW2,\n",
    "             \"db2\": db2,\n",
    "             \"dW3\": dW3,\n",
    "             \"db3\": db3}\n",
    "    \n",
    "    return grads, cost"
   ]
  },
  {
   "cell_type": "code",
   "execution_count": null,
   "metadata": {},
   "outputs": [],
   "source": []
  },
  {
   "cell_type": "code",
   "execution_count": 29,
   "metadata": {},
   "outputs": [],
   "source": [
    "def optimize_two_layer(W1, b1, W2, b2, W3, b3, X, y, num_iterations, learning_rate, use_reg = False, reg_lambda = 0.01, print_cost = False):\n",
    "    \"\"\"\n",
    "    This function optimizes w and b by running a gradient descent algorithm\n",
    "    \n",
    "    Arguments:\n",
    "    w -- weights, a numpy array of size (num_px * num_px * 3, 1)\n",
    "    b -- bias, a scalar\n",
    "    X -- data of shape (num_px * num_px * 3, number of examples)\n",
    "    Y -- true \"label\" vector (containing 0 if non-cat, 1 if cat), of shape (1, number of examples)\n",
    "    num_iterations -- number of iterations of the optimization loop\n",
    "    learning_rate -- learning rate of the gradient descent update rule\n",
    "    use_reg -- use regularization\n",
    "    reg_lambda -- regularization weight\n",
    "    print_cost -- True to print the loss every 100 steps\n",
    "    \n",
    "    Returns:\n",
    "    params -- dictionary containing the weights w and bias b\n",
    "    grads -- dictionary containing the gradients of the weights and bias with respect to the cost function\n",
    "    costs -- list of all the costs computed during the optimization, this will be used to plot the learning curve.\n",
    "    \n",
    "    Tips:\n",
    "    You basically need to write down two steps and iterate through them:\n",
    "        1) Calculate the cost and the gradient for the current parameters. Use propagate().\n",
    "        2) Update the parameters using gradient descent rule for w and b.\n",
    "    \"\"\"\n",
    "    \n",
    "    costs = []\n",
    "    cost_i = 0\n",
    "    for ii in range(num_iterations):\n",
    "        \n",
    "        # Cost and gradient calculation (≈ 1-4 lines of code)\n",
    "        ### START CODE HERE ### \n",
    "        \n",
    "        grads, cost = propagate_two_layer(W1, b1, W2, b2, W3, b3, X, y, use_reg=use_reg, reg_lambda=reg_lambda)\n",
    "\n",
    "        ### END CODE HERE ###\n",
    "        \n",
    "        # Retrieve derivatives from grads\n",
    "        dW1 = grads[\"dW1\"]\n",
    "        db1 = grads[\"db1\"]\n",
    "        dW2 = grads[\"dW2\"]\n",
    "        db2 = grads[\"db2\"]\n",
    "        dW3 = grads[\"dW3\"]\n",
    "        db3 = grads[\"db3\"]\n",
    "        \n",
    "        # update rule (≈ 4 lines of code)\n",
    "        ### START CODE HERE ###\n",
    "        W1 = W1 - learning_rate*dW1\n",
    "        b1 = b1 - learning_rate*db1\n",
    "        W2 = W2 - learning_rate*dW2\n",
    "        b2 = b2 - learning_rate*db2\n",
    "        W3 = W3 - learning_rate*dW3\n",
    "        b3 = b3 - learning_rate*db3\n",
    "        ### END CODE HERE ###\n",
    "        \n",
    "        # Record the costs\n",
    "        if ii % 100 == 0:\n",
    "            costs.append(cost)\n",
    "            cost_i += 1\n",
    "        \n",
    "        # Print the cost every 200 training iterations\n",
    "        if print_cost and ii % 100 == 0:\n",
    "            print (\"Cost after iteration %i: %f\" %(ii, cost))\n",
    "            \n",
    "#         if ((ii>100) and (np.abs(costs[cost_i-2]-costs[cost_i-1])<0.01)):\n",
    "#           break\n",
    "    \n",
    "    params = {\"W1\": W1,\n",
    "              \"b1\": b1,\n",
    "              \"W2\": W2,\n",
    "              \"b2\": b2,\n",
    "              \"W3\": W3,\n",
    "              \"b3\": b3}\n",
    "    \n",
    "    grads = {\"dW1\": dW1,\n",
    "             \"db1\": db1,\n",
    "             \"dW2\": dW2,\n",
    "             \"db2\": db2,\n",
    "             \"dW3\": dW3,\n",
    "             \"db3\": db3}\n",
    "    \n",
    "    return params, grads, costs"
   ]
  },
  {
   "cell_type": "code",
   "execution_count": null,
   "metadata": {},
   "outputs": [],
   "source": []
  },
  {
   "cell_type": "code",
   "execution_count": 33,
   "metadata": {},
   "outputs": [],
   "source": [
    "def predict_two_layer(W1, b1, W2, b2, W3, b3, X):\n",
    "    '''\n",
    "    Predict whether the label is 0 or 1 using learned logistic regression parameters (w, b)\n",
    "    \n",
    "    Arguments:\n",
    "    w -- weights, a numpy array of size (num_px * num_px * 3, 1)\n",
    "    b -- bias, a scalar\n",
    "    X -- data of size (num_px * num_px * 3, number of examples)\n",
    "    \n",
    "    Returns:\n",
    "    Y_prediction -- a numpy array (vector) containing all predictions (0/1) for the examples in X\n",
    "    '''\n",
    "    m = X.shape[0]\n",
    "    Y_prediction = np.zeros((1,m))\n",
    "    \n",
    "    # Compute vector \"A\" predicting the probabilities of a cat being present in the picture\n",
    "    ### START CODE HERE ### (≈ 3 lines of code)\n",
    "\n",
    "    A0 = X.T\n",
    "#     A1 = np.tanh(np.dot(W1.T, X.T)+b1)\n",
    "    A1 = relu(np.dot(W1, A0)+b1)\n",
    "    A2 = relu(np.dot(W2, A1)+b2)\n",
    "    A3 = sigmoid(np.dot(W3, A2)+b3)\n",
    "\n",
    "    ### END CODE HERE ###\n",
    "    \n",
    "    for ii in range(A3.shape[1]):\n",
    "        \n",
    "        # Convert probabilities A[0,i] to actual predictions p[0,i]\n",
    "        ### START CODE HERE ### (≈ 4 lines of code)\n",
    "\n",
    "        if(A3[0, ii] > 0.5):\n",
    "            Y_prediction[0, ii] = 1\n",
    "        else:\n",
    "            Y_prediction[0, ii] = 0\n",
    "        \n",
    "        ### END CODE HERE ###\n",
    "    \n",
    "    assert(Y_prediction.shape == (1, m))\n",
    "    \n",
    "    return Y_prediction"
   ]
  },
  {
   "cell_type": "code",
   "execution_count": null,
   "metadata": {},
   "outputs": [],
   "source": []
  },
  {
   "cell_type": "code",
   "execution_count": 34,
   "metadata": {},
   "outputs": [],
   "source": [
    "def train_two_layer(X_train, y_train, K=2, h_neurons=100, num_iterations=2000, learning_rate=0.5, use_reg=False, reg_lambda=0.01, init_type='random', print_cost=False):\n",
    "    \"\"\"\n",
    "    Builds the logistic regression model by calling the function you've implemented previously\n",
    "    \n",
    "    Arguments:\n",
    "    X_train -- training set represented by a numpy array of shape (num_px * num_px * 3, m_train)\n",
    "    Y_train -- training labels represented by a numpy array (vector) of shape (1, m_train)\n",
    "    X_test -- test set represented by a numpy array of shape (num_px * num_px * 3, m_test)\n",
    "    Y_test -- test labels represented by a numpy array (vector) of shape (1, m_test)\n",
    "    num_iterations -- hyperparameter representing the number of iterations to optimize the parameters\n",
    "    learning_rate -- hyperparameter representing the learning rate used in the update rule of optimize()\n",
    "    print_cost -- Set to true to print the cost every 100 iterations\n",
    "    \n",
    "    Returns:\n",
    "    d -- dictionary containing information about the model.\n",
    "    \"\"\"\n",
    "    \n",
    "    ### START CODE HERE ###\n",
    "    \n",
    "    # initialize parameters with zeros (≈ 2 lines of code)\n",
    "    Y_prediction_train = 0\n",
    "    costs_list = []\n",
    "    model = initialize_parameters(D, h_neurons, K)\n",
    "    W1, b1, W2, b2, W3, b3 = model['W1'], model['b1'], model['W2'], model['b2'], model['W3'], model['b3']\n",
    "\n",
    "    # Gradient descent (≈ 1 line of code)\n",
    "    for i in range(5):\n",
    "        X_train_batch = X_train[(i*10000):((i+1)*10000),:]\n",
    "        y_train_batch = y_train[(i*10000):((i+1)*10000)]\n",
    "\n",
    "#         print(\"X_train_batch.shape: \", X_train_batch.shape)\n",
    "        parameters, grads, costs = optimize_two_layer(W1, b1, W2, b2, W3, b3, X_train_batch, y_train_batch, num_iterations, learning_rate, use_reg = use_reg, reg_lambda = reg_lambda, print_cost = print_cost)\n",
    "        costs_list.append(costs)\n",
    "        # Retrieve parameters w and b from dictionary \"parameters\"\n",
    "        W1 = parameters[\"W1\"]\n",
    "        b1 = parameters[\"b1\"]\n",
    "        W2 = parameters[\"W2\"]\n",
    "        b2 = parameters[\"b2\"]\n",
    "        W3 = parameters[\"W3\"]\n",
    "        b3 = parameters[\"b3\"]\n",
    "\n",
    "        Y_prediction_train = predict_two_layer(W1, b1, W2, b2, W3, b3, X_train_batch)\n",
    "\n",
    "        # Print train/test Errors\n",
    "        print('training accuracy: %.2f' % (np.mean(Y_prediction_train == y_train_batch.T)))\n",
    "        print('Y_prediction_train.shape: ', Y_prediction_train.shape)\n",
    "    \n",
    "    d = {\"costs\": costs_list,\n",
    "         \"W1\" : W1, \n",
    "         \"b1\" : b1,\n",
    "         \"W2\" : W2, \n",
    "         \"b2\" : b2,\n",
    "         \"W3\" : W3, \n",
    "         \"b3\" : b3,\n",
    "         \"learning_rate\" : learning_rate,\n",
    "         \"num_iterations\": num_iterations,\n",
    "         \"predictions\": Y_prediction_train}\n",
    "    \n",
    "    return d"
   ]
  },
  {
   "cell_type": "code",
   "execution_count": null,
   "metadata": {},
   "outputs": [],
   "source": []
  },
  {
   "cell_type": "code",
   "execution_count": null,
   "metadata": {},
   "outputs": [
    {
     "name": "stdout",
     "output_type": "stream",
     "text": [
      "Exception reporting mode: Plain\n",
      "Automatic pdb calling has been turned ON\n",
      "Cost after iteration 0: 100.681798\n",
      "Cost after iteration 100: 13.478556\n",
      "Cost after iteration 200: 2.147620\n",
      "Cost after iteration 300: 0.661567\n",
      "Cost after iteration 400: 5.502520\n",
      "training accuracy: 0.58\n",
      "Y_prediction_train.shape:  (1, 1000)\n",
      "Cost after iteration 0: 0.736600\n",
      "Cost after iteration 100: 0.653064\n",
      "Cost after iteration 200: 0.345408\n",
      "Cost after iteration 300: 0.532044\n",
      "Cost after iteration 400: 0.061171\n",
      "training accuracy: 0.78\n",
      "Y_prediction_train.shape:  (1, 1000)\n",
      "Cost after iteration 0: 0.697742\n",
      "Cost after iteration 100: 0.698159\n",
      "training accuracy: 0.76\n",
      "Y_prediction_train.shape:  (1, 1000)\n",
      "Cost after iteration 0: 0.683611\n",
      "Cost after iteration 100: 0.697352\n",
      "Cost after iteration 200: 0.723115\n",
      "Cost after iteration 300: 0.707135\n",
      "Cost after iteration 400: 0.722753\n",
      "training accuracy: 0.68\n",
      "Y_prediction_train.shape:  (1, 1000)\n",
      "Cost after iteration 0: 0.703770\n",
      "Cost after iteration 100: 0.674737\n",
      "Cost after iteration 200: 0.658274\n",
      "Cost after iteration 300: 0.696694\n",
      "Cost after iteration 400: 0.703883\n",
      "training accuracy: 0.54\n",
      "Y_prediction_train.shape:  (1, 1000)\n",
      "Cost after iteration 0: 0.717095\n"
     ]
    }
   ],
   "source": [
    "%xmode Plain\n",
    "%pdb on\n",
    "d = train_two_layer(X_train, y_train, K=1,  h_neurons=20, num_iterations=500, learning_rate= 1, use_reg=True, reg_lambda=1e-2, print_cost=True)"
   ]
  },
  {
   "cell_type": "code",
   "execution_count": null,
   "metadata": {},
   "outputs": [],
   "source": []
  },
  {
   "cell_type": "code",
   "execution_count": null,
   "metadata": {},
   "outputs": [],
   "source": []
  },
  {
   "cell_type": "code",
   "execution_count": null,
   "metadata": {},
   "outputs": [],
   "source": []
  },
  {
   "cell_type": "code",
   "execution_count": null,
   "metadata": {
    "collapsed": true
   },
   "outputs": [],
   "source": [
    "#import pyprind\n",
    "#pbar = pyprind.ProgBar(45)\n",
    "\n",
    "# classes = np.array([0, 1])\n",
    "# for _ in range(45):\n",
    "#     X_train, y_train = get_minibatch(doc_stream, size=1000)\n",
    "#     X_train = vect.transform(X_train).toarray()\n",
    "#     clf.partial_fit(X_train, y_train, classes=classes)\n",
    "#     #pbar.update()\n",
    "    \n",
    "Y_prediction_train = predict_two_layer(d[\"W1\"], d[\"b1\"], d[\"W2\"], d[\"b2\"], d[\"W3\"], d[\"b3\"], X_train[0:10000,:])\n",
    "print('training accuracy: %.2f' % (np.mean(Y_prediction_train == y_train[0:10000].T)))"
   ]
  },
  {
   "cell_type": "markdown",
   "metadata": {},
   "source": [
    "Depending on your machine, it will take about 2-3 minutes to stream the documents and learn the weights for the logistic regression model to classify \"new\" movie reviews. Executing the preceding code, we used the first 45,000 movie reviews to train the classifier, which means that we have 5,000 reviews left for testing:"
   ]
  },
  {
   "cell_type": "code",
   "execution_count": null,
   "metadata": {},
   "outputs": [],
   "source": [
    "# X_test, y_test = get_minibatch(doc_stream, size=5000)\n",
    "# X_test = vect.transform(X_test)\n",
    "# print('Accuracy: %.3f' % clf.score(X_test, y_test))\n",
    "#Exercise 3: compare  with your Neural Network"
   ]
  },
  {
   "cell_type": "markdown",
   "metadata": {},
   "source": [
    "I think that the predictive performance, an accuracy of ~87%, is quite \"reasonable\" given that we \"only\" used the default parameters and didn't do any hyperparameter optimization. \n",
    "\n",
    "After we estimated the model perfomance, let us use those last 5,000 test samples to update our model."
   ]
  },
  {
   "cell_type": "code",
   "execution_count": null,
   "metadata": {
    "collapsed": true
   },
   "outputs": [],
   "source": [
    "clf = clf.partial_fit(X_test, y_test)"
   ]
  },
  {
   "cell_type": "markdown",
   "metadata": {},
   "source": [
    "<br>\n",
    "<br>"
   ]
  },
  {
   "cell_type": "markdown",
   "metadata": {},
   "source": [
    "# Model Persistence"
   ]
  },
  {
   "cell_type": "markdown",
   "metadata": {},
   "source": [
    "In the previous section, we successfully trained a model to predict the sentiment of a movie review. Unfortunately, if we'd close this IPython notebook at this point, we'd have to go through the whole learning process again and again if we'd want to make a prediction on \"new data.\"\n",
    "\n",
    "So, to reuse this model, we could use the [`pickle`](https://docs.python.org/3.5/library/pickle.html) module to \"serialize a Python object structure\". Or even better, we could use the [`joblib`](https://pypi.python.org/pypi/joblib) library, which handles large NumPy arrays more efficiently.\n",
    "\n",
    "To install:\n",
    "conda install -c anaconda joblib"
   ]
  },
  {
   "cell_type": "code",
   "execution_count": null,
   "metadata": {},
   "outputs": [],
   "source": [
    "import joblib\n",
    "import os\n",
    "if not os.path.exists('./pkl_objects'):\n",
    "    os.mkdir('./pkl_objects')\n",
    "    \n",
    "joblib.dump(vect, './vectorizer.pkl')\n",
    "joblib.dump(clf, './clf.pkl')"
   ]
  },
  {
   "cell_type": "markdown",
   "metadata": {},
   "source": [
    "Using the code above, we \"pickled\" the `HashingVectorizer` and the `SGDClassifier` so that we can re-use those objects later. However, `pickle` and `joblib` have a known issue with `pickling` objects or functions from a `__main__` block and we'd get an `AttributeError: Can't get attribute [x] on <module '__main__'>` if we'd unpickle it later. Thus, to pickle the `tokenizer` function, we can write it to a file and import it to get the `namespace` \"right\"."
   ]
  },
  {
   "cell_type": "code",
   "execution_count": null,
   "metadata": {},
   "outputs": [],
   "source": [
    "%%writefile tokenizer.py\n",
    "from nltk.stem.porter import PorterStemmer\n",
    "import re\n",
    "from nltk.corpus import stopwords\n",
    "\n",
    "stop = stopwords.words('english')\n",
    "porter = PorterStemmer()\n",
    "\n",
    "def tokenizer(text):\n",
    "    text = re.sub('<[^>]*>', '', text)\n",
    "    emoticons = re.findall('(?::|;|=)(?:-)?(?:\\)|\\(|D|P)', text.lower())\n",
    "    text = re.sub('[\\W]+', ' ', text.lower()) + ' '.join(emoticons).replace('-', '')\n",
    "    text = [w for w in text.split() if w not in stop]\n",
    "    tokenized = [porter.stem(w) for w in text]\n",
    "    return text"
   ]
  },
  {
   "cell_type": "code",
   "execution_count": null,
   "metadata": {},
   "outputs": [],
   "source": [
    "from tokenizer import tokenizer\n",
    "joblib.dump(tokenizer, './tokenizer.pkl')"
   ]
  },
  {
   "cell_type": "markdown",
   "metadata": {},
   "source": [
    "Now, let us restart this IPython notebook and check if the we can load our serialized objects:"
   ]
  },
  {
   "cell_type": "code",
   "execution_count": null,
   "metadata": {
    "collapsed": true
   },
   "outputs": [],
   "source": [
    "import joblib\n",
    "tokenizer = joblib.load('./tokenizer.pkl')\n",
    "vect = joblib.load('./vectorizer.pkl')\n",
    "clf = joblib.load('./clf.pkl')"
   ]
  },
  {
   "cell_type": "markdown",
   "metadata": {},
   "source": [
    "After loading the `tokenizer`, `HashingVectorizer`, and the tranined logistic regression model, we can use it to make predictions on new data, which can be useful, for example, if we'd want to embed our classifier into a web application -- a topic for another IPython notebook."
   ]
  },
  {
   "cell_type": "code",
   "execution_count": null,
   "metadata": {},
   "outputs": [],
   "source": [
    "example = ['I did not like this movie']\n",
    "X = vect.transform(example)\n",
    "clf.predict(X)"
   ]
  },
  {
   "cell_type": "code",
   "execution_count": null,
   "metadata": {},
   "outputs": [],
   "source": [
    "example = ['I loved this movie']\n",
    "X = vect.transform(example)\n",
    "clf.predict(X)"
   ]
  },
  {
   "cell_type": "code",
   "execution_count": null,
   "metadata": {
    "collapsed": true
   },
   "outputs": [],
   "source": []
  }
 ],
 "metadata": {
  "kernelspec": {
   "display_name": "Python 3",
   "language": "python",
   "name": "python3"
  },
  "language_info": {
   "codemirror_mode": {
    "name": "ipython",
    "version": 3
   },
   "file_extension": ".py",
   "mimetype": "text/x-python",
   "name": "python",
   "nbconvert_exporter": "python",
   "pygments_lexer": "ipython3",
   "version": "3.7.0"
  }
 },
 "nbformat": 4,
 "nbformat_minor": 2
}
