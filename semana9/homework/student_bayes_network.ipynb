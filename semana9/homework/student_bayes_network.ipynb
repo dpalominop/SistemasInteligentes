{
 "cells": [
  {
   "cell_type": "markdown",
   "metadata": {},
   "source": [
    "# **Student Bayes Network**"
   ]
  },
  {
   "cell_type": "markdown",
   "metadata": {},
   "source": [
    "## Modelado de Red Bayesiana "
   ]
  },
  {
   "cell_type": "code",
   "execution_count": 1,
   "metadata": {},
   "outputs": [],
   "source": [
    "\"\"\"\n",
    "Definición de relaciones en la Red Bayesiana\n",
    "\"\"\"\n",
    "\n",
    "def BayesNetwork():\n",
    "    D = {'cpd': {0: 0.6, 1: 0.4},\n",
    "         'children': None}\n",
    "    \n",
    "    I = {'cpd': {0: 0.7, 1: 0.3},\n",
    "         'children': None}\n",
    "    \n",
    "    S = {'cpd': {0: {0:0.95, 1:0.2},\n",
    "                 1: {0:0.05, 1:0.8}},\n",
    "         'children': {'Intelligence':0}}\n",
    "    \n",
    "    G = {'cpd':{ 1: {(0,0):0.3, (0,1):0.05, (1,0):0.9 , (1,1):0.5},\n",
    "                 2: {(0,0):0.4, (0,1):0.25, (1,0):0.08, (1,1):0.3},\n",
    "                 3: {(0,0):0.3, (0,1):0.7 , (1,0):0.02, (1,1):0.2}},\n",
    "         'children': {'Intelligence':0, 'Difficulty':1}}\n",
    "    \n",
    "    L = {'cpd':{0: {1:0.1 , 2:0.4, 3:0.99},\n",
    "                1: {1:0.9 , 2:0.6, 3:0.01}},\n",
    "         'children': {'Grade':0}}\n",
    "\n",
    "    nodesLinked = {'Difficulty': D, 'Intelligence': I, 'Grade': G, 'SAT': S, 'Letter': L}\n",
    "\n",
    "    return nodesLinked"
   ]
  },
  {
   "cell_type": "markdown",
   "metadata": {},
   "source": [
    "<br/>"
   ]
  },
  {
   "cell_type": "markdown",
   "metadata": {},
   "source": [
    "## Entramiento de Rede Bayesiana"
   ]
  },
  {
   "cell_type": "code",
   "execution_count": 2,
   "metadata": {},
   "outputs": [],
   "source": [
    "\"\"\"\n",
    "Operaciones sobre factores\n",
    "\"\"\"\n",
    "def operateFactores(cpds, children, BayNet, deep, res):\n",
    "    sump = 0.0\n",
    "    res_prob  = {}\n",
    "    if children:\n",
    "        rev_chdic = dict(zip(children.values(), children.keys()))\n",
    "    for key_state, children_states in cpds.items():\n",
    "        if isinstance(children_states,(int,float)):\n",
    "            res_prob[key_state] = children_states\n",
    "            sump               += children_states\n",
    "        else:\n",
    "            sum_state = 0\n",
    "            for children_state,p in children_states.items():\n",
    "                prob_state = p\n",
    "                if isinstance(children_state, (int,float)):\n",
    "                    if rev_chdic[0] in res:\n",
    "                        prob_state *= res[rev_chdic[0]][children_state]\n",
    "\n",
    "                else:\n",
    "                    for i, child_state in enumerate(children_state):\n",
    "                        if rev_chdic[i] in res:\n",
    "                            prob_state *= res[rev_chdic[i]][child_state]\n",
    "                        else:\n",
    "                            prob_state *=  BayNet[rev_chdic[i]]['cpd'][child_state]\n",
    "                sum_state      += prob_state\n",
    "            res_prob[key_state] = sum_state\n",
    "            sump               += sum_state\n",
    "\n",
    "    for key, val in res_prob.items():\n",
    "        res_prob[key] = float('%.4f'%(val/sump))\n",
    "    return res_prob"
   ]
  },
  {
   "cell_type": "code",
   "execution_count": 3,
   "metadata": {},
   "outputs": [],
   "source": [
    "\"\"\"\n",
    "Propagación de probabilidades en la red \n",
    "\"\"\"\n",
    "def setProbability(res, key, BayNet, deep):\n",
    "    if BayNet[key]['children']:\n",
    "        deep +=1\n",
    "        for child in BayNet[key]['children']:\n",
    "            setProbability(res, child, BayNet, deep) \n",
    "        res[key] = operateFactores(BayNet[key]['cpd'], BayNet[key]['children'], BayNet, 0, res)\n",
    "    else:\n",
    "        if key not in res:\n",
    "            res[key] = operateFactores(BayNet[key]['cpd'], None, BayNet, deep, res)"
   ]
  },
  {
   "cell_type": "code",
   "execution_count": 4,
   "metadata": {},
   "outputs": [],
   "source": [
    "\"\"\"\n",
    "Propagación de evidencias en la red\n",
    "\"\"\"\n",
    "def setEvidence(evidence, res, BayNet):\n",
    "    ev_prob = {}\n",
    "    for ev_state in BayNet[evidence[0]]['cpd']:\n",
    "        if ev_state == evidence[1]:\n",
    "            ev_prob[ev_state] = 1.0\n",
    "        else:\n",
    "            ev_prob[ev_state] = 0.0\n",
    "    res[evidence[0]] = ev_prob"
   ]
  },
  {
   "cell_type": "code",
   "execution_count": 5,
   "metadata": {},
   "outputs": [],
   "source": [
    "\"\"\"\n",
    "Propagación de evidencias a los hijos de los nodos en la red\n",
    "\"\"\"\n",
    "def setEvidenceToChildren(res, children, evidenceParent, BayNet):\n",
    "    if children:\n",
    "        for child in children:\n",
    "            res[child] = operateFactores(BayNet[child]['cpd'], BayNet[child]['children'], BayNet, 0)\n",
    "            for s, p in res[child].items():\n",
    "                res[child][s] = evidenceParent[s]*res[child][s]\n",
    "\n",
    "            res[child] = operateFactores(res[child], None, BayNet, 0, res)\n",
    "            setEvidenceToChildren(res, BayNet[child]['children'], res[child], BayNet)"
   ]
  },
  {
   "cell_type": "code",
   "execution_count": 6,
   "metadata": {},
   "outputs": [],
   "source": [
    "\"\"\"\n",
    "Entrenamiento de la red basado en el cáculo de probalidades\n",
    "\"\"\"\n",
    "\n",
    "def trainBayesNetwork(evidences=None, verbose=True):\n",
    "    BayNet = BayesNetwork()\n",
    "        \n",
    "    res = {}\n",
    "\n",
    "    if evidences:\n",
    "        for evidence in evidences:\n",
    "            if evidence[0] in BayNet:\n",
    "                setEvidence(evidence, res, BayNet)\n",
    "                setEvidenceToChildren(res, BayNet[evidence[0]]['children'], BayNet[evidence[0]]['cpd'][evidence[1]], BayNet)                        \n",
    "            else:\n",
    "                print(\"Evidence's name not found!\\n\")\n",
    "\n",
    "    for key, node in BayNet.items():\n",
    "        if verbose:\n",
    "            print('key :', key)\n",
    "        if key not in res:\n",
    "            setProbability(res, key, BayNet,0) \n",
    "    return res"
   ]
  },
  {
   "cell_type": "code",
   "execution_count": 7,
   "metadata": {},
   "outputs": [
    {
     "name": "stdout",
     "output_type": "stream",
     "text": [
      "key : Difficulty\n",
      "key : Intelligence\n",
      "key : Grade\n",
      "key : SAT\n",
      "key : Letter\n"
     ]
    }
   ],
   "source": [
    "\"\"\"\"\n",
    "Inicialización del entrenamiento de la red\n",
    "\"\"\"\n",
    "results = trainBayesNetwork()"
   ]
  },
  {
   "cell_type": "markdown",
   "metadata": {},
   "source": [
    "<br/>"
   ]
  },
  {
   "cell_type": "markdown",
   "metadata": {},
   "source": [
    "## Visualización de resultados en la Red Bayesiana"
   ]
  },
  {
   "cell_type": "code",
   "execution_count": 8,
   "metadata": {},
   "outputs": [],
   "source": [
    "\"\"\"\n",
    "Visualización de Resultados\n",
    "\"\"\"\n",
    "def printBayesNetwork(results):\n",
    "    for key, val in results.items():\n",
    "        print('{:10}\\t\\t: {}'.format(key, val))"
   ]
  },
  {
   "cell_type": "code",
   "execution_count": 9,
   "metadata": {},
   "outputs": [
    {
     "name": "stdout",
     "output_type": "stream",
     "text": [
      "Difficulty\t\t: {0: 0.6, 1: 0.4}\n",
      "Intelligence\t\t: {0: 0.7, 1: 0.3}\n",
      "Grade     \t\t: {1: 0.362, 2: 0.2884, 3: 0.3496}\n",
      "SAT       \t\t: {0: 0.725, 1: 0.275}\n",
      "Letter    \t\t: {0: 0.4977, 1: 0.5023}\n"
     ]
    }
   ],
   "source": [
    "printBayesNetwork(results)"
   ]
  },
  {
   "cell_type": "markdown",
   "metadata": {},
   "source": [
    "<br/>"
   ]
  },
  {
   "cell_type": "markdown",
   "metadata": {},
   "source": [
    "## Comparación con SAMIAM"
   ]
  },
  {
   "cell_type": "markdown",
   "metadata": {},
   "source": [
    "### Carga de Datos en SAMIAM"
   ]
  },
  {
   "cell_type": "markdown",
   "metadata": {},
   "source": [
    "<img src='images/bn_src.PNG'>"
   ]
  },
  {
   "cell_type": "markdown",
   "metadata": {},
   "source": [
    "### Compilación de Red"
   ]
  },
  {
   "cell_type": "code",
   "execution_count": 10,
   "metadata": {},
   "outputs": [
    {
     "data": {
      "text/html": [
       "<img src='images/bn_out.PNG'>"
      ],
      "text/plain": [
       "<IPython.core.display.HTML object>"
      ]
     },
     "metadata": {},
     "output_type": "display_data"
    }
   ],
   "source": [
    "%%html\n",
    "<img src='images/bn_out.PNG'>"
   ]
  },
  {
   "cell_type": "markdown",
   "metadata": {},
   "source": [
    "De los datos mostrados se puede apreciar que se obtienen los mismos resultados usando **SAMIAM** y el Algoritmo de **Eliminación de Variables**."
   ]
  },
  {
   "cell_type": "markdown",
   "metadata": {},
   "source": [
    "<br/>"
   ]
  },
  {
   "cell_type": "markdown",
   "metadata": {},
   "source": [
    "## Comparación con SAMIAM condicional"
   ]
  },
  {
   "cell_type": "markdown",
   "metadata": {},
   "source": [
    "<img src='images/bn_cond.PNG'>"
   ]
  },
  {
   "cell_type": "code",
   "execution_count": 11,
   "metadata": {},
   "outputs": [],
   "source": [
    "results = trainBayesNetwork(evidences = [('Difficulty',0)], verbose=False)"
   ]
  },
  {
   "cell_type": "code",
   "execution_count": 12,
   "metadata": {},
   "outputs": [
    {
     "name": "stdout",
     "output_type": "stream",
     "text": [
      "Difficulty\t\t: {0: 1.0, 1: 0.0}\n",
      "Intelligence\t\t: {0: 0.7, 1: 0.3}\n",
      "Grade     \t\t: {1: 0.48, 2: 0.304, 3: 0.216}\n",
      "SAT       \t\t: {0: 0.725, 1: 0.275}\n",
      "Letter    \t\t: {0: 0.3834, 1: 0.6166}\n"
     ]
    }
   ],
   "source": [
    "printBayesNetwork(results)"
   ]
  },
  {
   "cell_type": "markdown",
   "metadata": {},
   "source": [
    "Nuevamente se observa la equivalencia de resultados entre usar **SAMIAM** y el Algoritmo de **Eliminación de Variables**."
   ]
  }
 ],
 "metadata": {
  "kernelspec": {
   "display_name": "Python 3",
   "language": "python",
   "name": "python3"
  },
  "language_info": {
   "codemirror_mode": {
    "name": "ipython",
    "version": 3
   },
   "file_extension": ".py",
   "mimetype": "text/x-python",
   "name": "python",
   "nbconvert_exporter": "python",
   "pygments_lexer": "ipython3",
   "version": "3.7.0"
  }
 },
 "nbformat": 4,
 "nbformat_minor": 2
}
