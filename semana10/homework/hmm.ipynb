{
 "cells": [
  {
   "cell_type": "markdown",
   "metadata": {},
   "source": [
    "# Hidden Markov Model for Named Entity Recognition"
   ]
  },
  {
   "cell_type": "markdown",
   "metadata": {},
   "source": [
    "## Preprocessing"
   ]
  },
  {
   "cell_type": "code",
   "execution_count": 1,
   "metadata": {},
   "outputs": [],
   "source": [
    "data = open(\"data/esp.train\", \"r\", encoding='utf8',errors=\"ignore\")"
   ]
  },
  {
   "cell_type": "code",
   "execution_count": 2,
   "metadata": {},
   "outputs": [],
   "source": [
    "text  = data.read().split(\"\\n\")"
   ]
  },
  {
   "cell_type": "code",
   "execution_count": 5,
   "metadata": {},
   "outputs": [],
   "source": [
    "def parsingData(text):\n",
    "    words = []\n",
    "    labels = []\n",
    "    \n",
    "    for line in text:\n",
    "        if line != \"\":\n",
    "            word, label = line.split(\" \")\n",
    "            words.append(word)\n",
    "            labels.append(label)\n",
    "    \n",
    "    return words, labels"
   ]
  },
  {
   "cell_type": "code",
   "execution_count": 6,
   "metadata": {},
   "outputs": [],
   "source": [
    "x_train, y_train = parsingData(text)"
   ]
  },
  {
   "cell_type": "code",
   "execution_count": 16,
   "metadata": {},
   "outputs": [],
   "source": [
    "import collections\n",
    "\n",
    "label_count =  collections.Counter(y_train)\n",
    "prob_y  = { label : n/len(y_train) for label, n in label_count.items()}"
   ]
  },
  {
   "cell_type": "markdown",
   "metadata": {},
   "source": [
    "## Trainning"
   ]
  },
  {
   "cell_type": "code",
   "execution_count": null,
   "metadata": {},
   "outputs": [],
   "source": [
    "def mapping_function(x_train, label_input,n_lines, prob_y):\n",
    "    res = {}\n",
    "    \n",
    "    # Getting Conditional Probabilities\n",
    "    for i in range(n_lines):\n",
    "        if input_train[i] not in res:\n",
    "            res[input_train[i]] = {}\n",
    "        \n",
    "        if label_input[i] not in res[input_train[i]]:\n",
    "                res[input_train[i]][label_input[i]]  = 1\n",
    "                \n",
    "        else:\n",
    "            res[input_train[i]][label_input[i]] += 1 \n",
    "    \n",
    "    \n",
    "    for key, val in res.items():\n",
    "        sumLabels = sum(val.values())\n",
    "        for k, v in val.items():\n",
    "            res[key][k] = v / sumLabels\n",
    "    \n",
    "    # Multiplying by prob_y (each label)\n",
    "    for key, val in res.items():\n",
    "        for k, v in val.items():\n",
    "            res[key][k] = v * prob_y[k]\n",
    "            \n",
    "    return res"
   ]
  },
  {
   "cell_type": "code",
   "execution_count": null,
   "metadata": {},
   "outputs": [],
   "source": [
    "prob_dist = mapping_function(input_train, label_train, n_lines, prob_y)"
   ]
  },
  {
   "cell_type": "code",
   "execution_count": null,
   "metadata": {},
   "outputs": [],
   "source": [
    "def predict(word, prob_dist):\n",
    "    if word in prob_dist:\n",
    "        maxVal = max(prob_dist[word].values())\n",
    "        for k, v in prob_dist[word].items():\n",
    "            if v == maxVal:\n",
    "                return k\n",
    "    else:\n",
    "        return '0'"
   ]
  },
  {
   "cell_type": "code",
   "execution_count": null,
   "metadata": {},
   "outputs": [],
   "source": [
    "predict('Australia', prob_dist)"
   ]
  },
  {
   "cell_type": "markdown",
   "metadata": {},
   "source": [
    "## Testing"
   ]
  },
  {
   "cell_type": "code",
   "execution_count": null,
   "metadata": {},
   "outputs": [],
   "source": [
    "def testing(input_test, label_test, prob_dist):\n",
    "    n   = len(input_test)\n",
    "    acc = 0.\n",
    "    \n",
    "    for i in range(n):\n",
    "        if predict(input_test[i], prob_dist) == label_test[i]:\n",
    "            acc += 1\n",
    "            \n",
    "    return acc/n"
   ]
  },
  {
   "cell_type": "markdown",
   "metadata": {},
   "source": [
    "### Dataset A"
   ]
  },
  {
   "cell_type": "code",
   "execution_count": null,
   "metadata": {},
   "outputs": [],
   "source": [
    "data = open(\"data/esp-testa.txt\", \"r\", encoding='utf8',errors=\"ignore\")\n",
    "text_a  = data.read().split(\"\\n\")\n",
    "data.close()"
   ]
  },
  {
   "cell_type": "code",
   "execution_count": null,
   "metadata": {},
   "outputs": [],
   "source": [
    "input_testa, label_testa, n_lines = getData(text_a)"
   ]
  },
  {
   "cell_type": "code",
   "execution_count": null,
   "metadata": {},
   "outputs": [],
   "source": [
    "acc_a = testing(input_testa, label_testa, prob_dist)\n",
    "print(\"Accuracy for 'esp-testa.txt' : {:4.3f}\".format(acc_a))"
   ]
  },
  {
   "cell_type": "markdown",
   "metadata": {},
   "source": [
    "### Dataset B"
   ]
  },
  {
   "cell_type": "code",
   "execution_count": null,
   "metadata": {},
   "outputs": [],
   "source": [
    "data = open(\"data/esp-testa.txt\", \"r\", encoding='utf8',errors=\"ignore\")\n",
    "text_b  = data.read().split(\"\\n\")\n",
    "data.close()"
   ]
  },
  {
   "cell_type": "code",
   "execution_count": null,
   "metadata": {},
   "outputs": [],
   "source": [
    "input_testa, label_testa, n_lines = getData(text_a)"
   ]
  },
  {
   "cell_type": "code",
   "execution_count": null,
   "metadata": {},
   "outputs": [],
   "source": [
    "acc_a = testing(input_testa, label_testa, prob_dist)\n",
    "print(\"Accuracy for 'esp-testa.txt' : {:4.3f}\".format(acc_a))"
   ]
  }
 ],
 "metadata": {
  "kernelspec": {
   "display_name": "Python 3",
   "language": "python",
   "name": "python3"
  },
  "language_info": {
   "codemirror_mode": {
    "name": "ipython",
    "version": 3
   },
   "file_extension": ".py",
   "mimetype": "text/x-python",
   "name": "python",
   "nbconvert_exporter": "python",
   "pygments_lexer": "ipython3",
   "version": "3.7.0"
  }
 },
 "nbformat": 4,
 "nbformat_minor": 2
}
