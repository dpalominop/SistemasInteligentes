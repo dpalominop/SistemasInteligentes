{
  "nbformat": 4,
  "nbformat_minor": 0,
  "metadata": {
    "colab": {
      "name": "NeuralNetworksSemana6.ipynb",
      "version": "0.3.2",
      "provenance": []
    },
    "kernelspec": {
      "display_name": "Python 3",
      "language": "python",
      "name": "python3"
    }
  },
  "cells": [
    {
      "metadata": {
        "id": "pdrJMehVG5UZ",
        "colab_type": "text"
      },
      "cell_type": "markdown",
      "source": [
        "# Logistic Regression for Sentiment Analysis"
      ]
    },
    {
      "metadata": {
        "id": "jWqW_aevG5Uf",
        "colab_type": "text"
      },
      "cell_type": "markdown",
      "source": [
        "Adapted from http://nbviewer.jupyter.org/github/rasbt/pattern_classification/blob/master/machine_learning/scikit-learn/outofcore_modelpersistence.ipynb"
      ]
    },
    {
      "metadata": {
        "id": "W0Wq9AZ8G5Uj",
        "colab_type": "text"
      },
      "cell_type": "markdown",
      "source": [
        "<br>\n",
        "<br>"
      ]
    },
    {
      "metadata": {
        "id": "vuXbYeDfG5Uq",
        "colab_type": "text"
      },
      "cell_type": "markdown",
      "source": [
        "## The IMDb Movie Review Dataset"
      ]
    },
    {
      "metadata": {
        "id": "uVr_ruGCG5Us",
        "colab_type": "text"
      },
      "cell_type": "markdown",
      "source": [
        "In this section, we will train a simple logistic regression model to classify movie reviews from the 50k IMDb review dataset that has been collected by Maas et. al.\n",
        "\n",
        "> AL Maas, RE Daly, PT Pham, D Huang, AY Ng, and C Potts. Learning word vectors for sentiment analysis. In Proceedings of the 49th Annual Meeting of the Association for Computational Lin- guistics: Human Language Technologies, pages 142–150, Portland, Oregon, USA, June 2011. Association for Computational Linguistics\n",
        "\n",
        "[Source: http://ai.stanford.edu/~amaas/data/sentiment/]\n",
        "\n",
        "The dataset consists of 50,000 movie reviews from the original \"train\" and \"test\" subdirectories. The class labels are binary (1=positive and 0=negative) and contain 25,000 positive and 25,000 negative movie reviews, respectively.\n",
        "For simplicity, I assembled the reviews in a single CSV file.\n"
      ]
    },
    {
      "metadata": {
        "id": "Rk2APgALG5Uv",
        "colab_type": "code",
        "outputId": "70d320ff-4710-4008-ebbb-99d85921fd9b",
        "colab": {
          "base_uri": "https://localhost:8080/",
          "height": 206
        }
      },
      "cell_type": "code",
      "source": [
        "import pandas as pd\n",
        "# if you want to download the original file:\n",
        "df = pd.read_csv('https://raw.githubusercontent.com/rasbt/pattern_classification/master/data/50k_imdb_movie_reviews.csv')\n",
        "# otherwise load local file\n",
        "df[['review', 'sentiment']].to_csv('shuffled_movie_data.csv', index=False)\n",
        "df = pd.read_csv('shuffled_movie_data.csv')\n",
        "df.tail()"
      ],
      "execution_count": 1,
      "outputs": [
        {
          "output_type": "execute_result",
          "data": {
            "text/html": [
              "<div>\n",
              "<style scoped>\n",
              "    .dataframe tbody tr th:only-of-type {\n",
              "        vertical-align: middle;\n",
              "    }\n",
              "\n",
              "    .dataframe tbody tr th {\n",
              "        vertical-align: top;\n",
              "    }\n",
              "\n",
              "    .dataframe thead th {\n",
              "        text-align: right;\n",
              "    }\n",
              "</style>\n",
              "<table border=\"1\" class=\"dataframe\">\n",
              "  <thead>\n",
              "    <tr style=\"text-align: right;\">\n",
              "      <th></th>\n",
              "      <th>review</th>\n",
              "      <th>sentiment</th>\n",
              "    </tr>\n",
              "  </thead>\n",
              "  <tbody>\n",
              "    <tr>\n",
              "      <th>49995</th>\n",
              "      <td>Towards the end of the movie, I felt it was to...</td>\n",
              "      <td>0</td>\n",
              "    </tr>\n",
              "    <tr>\n",
              "      <th>49996</th>\n",
              "      <td>This is the kind of movie that my enemies cont...</td>\n",
              "      <td>0</td>\n",
              "    </tr>\n",
              "    <tr>\n",
              "      <th>49997</th>\n",
              "      <td>I saw 'Descent' last night at the Stockholm Fi...</td>\n",
              "      <td>0</td>\n",
              "    </tr>\n",
              "    <tr>\n",
              "      <th>49998</th>\n",
              "      <td>Some films that you pick up for a pound turn o...</td>\n",
              "      <td>0</td>\n",
              "    </tr>\n",
              "    <tr>\n",
              "      <th>49999</th>\n",
              "      <td>This is one of the dumbest films, I've ever se...</td>\n",
              "      <td>0</td>\n",
              "    </tr>\n",
              "  </tbody>\n",
              "</table>\n",
              "</div>"
            ],
            "text/plain": [
              "                                                  review  sentiment\n",
              "49995  Towards the end of the movie, I felt it was to...          0\n",
              "49996  This is the kind of movie that my enemies cont...          0\n",
              "49997  I saw 'Descent' last night at the Stockholm Fi...          0\n",
              "49998  Some films that you pick up for a pound turn o...          0\n",
              "49999  This is one of the dumbest films, I've ever se...          0"
            ]
          },
          "metadata": {
            "tags": []
          },
          "execution_count": 1
        }
      ]
    },
    {
      "metadata": {
        "id": "nXtcrnp3G5U9",
        "colab_type": "text"
      },
      "cell_type": "markdown",
      "source": [
        "Let us shuffle the class labels."
      ]
    },
    {
      "metadata": {
        "id": "HmMjGRVhG5VA",
        "colab_type": "code",
        "outputId": "483ef231-de3c-4faf-fdbf-68449d0d99a9",
        "colab": {
          "base_uri": "https://localhost:8080/",
          "height": 206
        }
      },
      "cell_type": "code",
      "source": [
        "import numpy as np\n",
        "## uncomment these lines if you have dowloaded the original file:\n",
        "np.random.seed(0)\n",
        "df = df.reindex(np.random.permutation(df.index))\n",
        "df[['review', 'sentiment']].to_csv('shuffled_movie_data.csv', index=False)\n",
        "df.head()"
      ],
      "execution_count": 2,
      "outputs": [
        {
          "output_type": "execute_result",
          "data": {
            "text/html": [
              "<div>\n",
              "<style scoped>\n",
              "    .dataframe tbody tr th:only-of-type {\n",
              "        vertical-align: middle;\n",
              "    }\n",
              "\n",
              "    .dataframe tbody tr th {\n",
              "        vertical-align: top;\n",
              "    }\n",
              "\n",
              "    .dataframe thead th {\n",
              "        text-align: right;\n",
              "    }\n",
              "</style>\n",
              "<table border=\"1\" class=\"dataframe\">\n",
              "  <thead>\n",
              "    <tr style=\"text-align: right;\">\n",
              "      <th></th>\n",
              "      <th>review</th>\n",
              "      <th>sentiment</th>\n",
              "    </tr>\n",
              "  </thead>\n",
              "  <tbody>\n",
              "    <tr>\n",
              "      <th>11841</th>\n",
              "      <td>In 1974, the teenager Martha Moxley (Maggie Gr...</td>\n",
              "      <td>1</td>\n",
              "    </tr>\n",
              "    <tr>\n",
              "      <th>19602</th>\n",
              "      <td>OK... so... I really like Kris Kristofferson a...</td>\n",
              "      <td>0</td>\n",
              "    </tr>\n",
              "    <tr>\n",
              "      <th>45519</th>\n",
              "      <td>***SPOILER*** Do not read this, if you think a...</td>\n",
              "      <td>0</td>\n",
              "    </tr>\n",
              "    <tr>\n",
              "      <th>25747</th>\n",
              "      <td>hi for all the people who have seen this wonde...</td>\n",
              "      <td>1</td>\n",
              "    </tr>\n",
              "    <tr>\n",
              "      <th>42642</th>\n",
              "      <td>I recently bought the DVD, forgetting just how...</td>\n",
              "      <td>0</td>\n",
              "    </tr>\n",
              "  </tbody>\n",
              "</table>\n",
              "</div>"
            ],
            "text/plain": [
              "                                                  review  sentiment\n",
              "11841  In 1974, the teenager Martha Moxley (Maggie Gr...          1\n",
              "19602  OK... so... I really like Kris Kristofferson a...          0\n",
              "45519  ***SPOILER*** Do not read this, if you think a...          0\n",
              "25747  hi for all the people who have seen this wonde...          1\n",
              "42642  I recently bought the DVD, forgetting just how...          0"
            ]
          },
          "metadata": {
            "tags": []
          },
          "execution_count": 2
        }
      ]
    },
    {
      "metadata": {
        "id": "UZsRI1JzG5VK",
        "colab_type": "text"
      },
      "cell_type": "markdown",
      "source": [
        "<br>\n",
        "<br>"
      ]
    },
    {
      "metadata": {
        "id": "tuYIh_rMG5VM",
        "colab_type": "text"
      },
      "cell_type": "markdown",
      "source": [
        "# Preprocessing Text Data"
      ]
    },
    {
      "metadata": {
        "id": "sHq2xQWCG5VP",
        "colab_type": "text"
      },
      "cell_type": "markdown",
      "source": [
        "\n",
        "\n",
        "## Tokenizació**n** y conversión a Secuencias de cada Review"
      ]
    },
    {
      "metadata": {
        "id": "ErRA2quLH4Ly",
        "colab_type": "code",
        "colab": {
          "base_uri": "https://localhost:8080/",
          "height": 34
        },
        "outputId": "256fd580-ae00-4127-929f-6e84fcfcf438"
      },
      "cell_type": "code",
      "source": [
        "import numpy as np\n",
        "import pandas as pd\n",
        "from keras.preprocessing.text import Tokenizer\n",
        "\n",
        "tokenizer = Tokenizer(num_words=2000, split=' ')\n",
        "\n",
        "data = pd.read_csv('shuffled_movie_data.csv')\n",
        "tokenizer.fit_on_texts(data['review'])\n",
        "X = tokenizer.texts_to_sequences(data['review'])"
      ],
      "execution_count": 3,
      "outputs": [
        {
          "output_type": "stream",
          "text": [
            "Using TensorFlow backend.\n"
          ],
          "name": "stderr"
        }
      ]
    },
    {
      "metadata": {
        "id": "oBz4tpnPNLuk",
        "colab_type": "text"
      },
      "cell_type": "markdown",
      "source": [
        "## Adheriendo padding a cada review tokenizado"
      ]
    },
    {
      "metadata": {
        "id": "KuwPcRxnI386",
        "colab_type": "code",
        "colab": {}
      },
      "cell_type": "code",
      "source": [
        "from keras.preprocessing.sequence import pad_sequences\n",
        "\n",
        "X = pad_sequences(X)\n",
        "Y = data['sentiment']"
      ],
      "execution_count": 0,
      "outputs": []
    },
    {
      "metadata": {
        "id": "4Wu93N4yNawr",
        "colab_type": "text"
      },
      "cell_type": "markdown",
      "source": [
        "## Separando los datos de Entrenamiento y Testing"
      ]
    },
    {
      "metadata": {
        "id": "bZMOg6ioKU6d",
        "colab_type": "code",
        "colab": {
          "base_uri": "https://localhost:8080/",
          "height": 141
        },
        "outputId": "151bc1c4-38a7-4ad7-f8aa-9e27d7a23964"
      },
      "cell_type": "code",
      "source": [
        "# from sklearn.model_selection import train_test_split\n",
        "from sklearn.cross_validation  import train_test_split\n",
        "\n",
        "X_train, X_test, Y_train, Y_test = train_test_split(X, Y, test_size = 0.2, random_state = 42)\n",
        "print('X_train.shape: ', X_train.shape)\n",
        "print('Y_train.shape: ', Y_train.shape)\n",
        "print('X_test.shape: ', X_test.shape)\n",
        "print('Y_test.shape: ', Y_test.shape)"
      ],
      "execution_count": 5,
      "outputs": [
        {
          "output_type": "stream",
          "text": [
            "/usr/local/lib/python3.6/dist-packages/sklearn/cross_validation.py:41: DeprecationWarning: This module was deprecated in version 0.18 in favor of the model_selection module into which all the refactored classes and functions are moved. Also note that the interface of the new CV iterators are different from that of this module. This module will be removed in 0.20.\n",
            "  \"This module will be removed in 0.20.\", DeprecationWarning)\n"
          ],
          "name": "stderr"
        },
        {
          "output_type": "stream",
          "text": [
            "X_train.shape:  (40000, 1939)\n",
            "Y_train.shape:  (40000,)\n",
            "X_test.shape:  (10000, 1939)\n",
            "Y_test.shape:  (10000,)\n"
          ],
          "name": "stdout"
        }
      ]
    },
    {
      "metadata": {
        "id": "lxrJvlNVG5Vo",
        "colab_type": "text"
      },
      "cell_type": "markdown",
      "source": [
        "# Learning (Keras)"
      ]
    },
    {
      "metadata": {
        "id": "BCoYxY9ZG5Vq",
        "colab_type": "text"
      },
      "cell_type": "markdown",
      "source": [
        "## Creación del Modelo"
      ]
    },
    {
      "metadata": {
        "id": "ivop4WDYKoxg",
        "colab_type": "code",
        "colab": {}
      },
      "cell_type": "code",
      "source": [
        "# !pip install keras\n",
        "from keras.models import Sequential, load_model\n",
        "from keras.layers import Dense, Embedding, LSTM, Bidirectional, Dropout\n",
        "\n",
        "model = Sequential()"
      ],
      "execution_count": 0,
      "outputs": []
    },
    {
      "metadata": {
        "id": "J3o3cwtWQUen",
        "colab_type": "text"
      },
      "cell_type": "markdown",
      "source": [
        "## Capa de Embedding"
      ]
    },
    {
      "metadata": {
        "id": "M9OjEUe9Qa-h",
        "colab_type": "code",
        "colab": {
          "base_uri": "https://localhost:8080/",
          "height": 72
        },
        "outputId": "7ae6dbec-d835-4e2d-c592-487cd1764606"
      },
      "cell_type": "code",
      "source": [
        "model.add( Embedding(2000, 32, input_length = X.shape[1], dropout=0.2))"
      ],
      "execution_count": 7,
      "outputs": [
        {
          "output_type": "stream",
          "text": [
            "/usr/local/lib/python3.6/dist-packages/ipykernel_launcher.py:1: UserWarning: The `dropout` argument is no longer support in `Embedding`. You can apply a `keras.layers.SpatialDropout1D` layer right after the `Embedding` layer to get the same behavior.\n",
            "  \"\"\"Entry point for launching an IPython kernel.\n"
          ],
          "name": "stderr"
        }
      ]
    },
    {
      "metadata": {
        "id": "6MgL4ghsQdmy",
        "colab_type": "text"
      },
      "cell_type": "markdown",
      "source": [
        "## Primera Capa LSTM Bidireccional"
      ]
    },
    {
      "metadata": {
        "id": "4jBTBkc8Ql9r",
        "colab_type": "code",
        "colab": {}
      },
      "cell_type": "code",
      "source": [
        "model.add(Dropout(0.2))\n",
        "model.add( Bidirectional( LSTM(20, return_sequences=True)))"
      ],
      "execution_count": 0,
      "outputs": []
    },
    {
      "metadata": {
        "id": "PFdOwu3yQqRX",
        "colab_type": "text"
      },
      "cell_type": "markdown",
      "source": [
        "## Segunda Capa LSTM Bidireccional"
      ]
    },
    {
      "metadata": {
        "id": "3oU4GwZuQtX4",
        "colab_type": "code",
        "colab": {}
      },
      "cell_type": "code",
      "source": [
        "model.add(Dropout(0.2))\n",
        "model.add( Bidirectional( LSTM(20)))"
      ],
      "execution_count": 0,
      "outputs": []
    },
    {
      "metadata": {
        "id": "GmQdxvI6QzYD",
        "colab_type": "text"
      },
      "cell_type": "markdown",
      "source": [
        "## Capa Final de Salida"
      ]
    },
    {
      "metadata": {
        "id": "ylZciu0fQ3OL",
        "colab_type": "code",
        "colab": {}
      },
      "cell_type": "code",
      "source": [
        "model.add(Dropout(0.2))\n",
        "model.add( Dense(1, activation = 'sigmoid'))"
      ],
      "execution_count": 0,
      "outputs": []
    },
    {
      "metadata": {
        "id": "Uta1aAzBRGkW",
        "colab_type": "text"
      },
      "cell_type": "markdown",
      "source": [
        "## Compilación y Resumen del Modelo"
      ]
    },
    {
      "metadata": {
        "id": "Grick9gqRJYu",
        "colab_type": "code",
        "colab": {
          "base_uri": "https://localhost:8080/",
          "height": 382
        },
        "outputId": "57d9383d-f9e3-4d8e-8db8-80e9be3bb280"
      },
      "cell_type": "code",
      "source": [
        "model.compile(loss = 'binary_crossentropy', optimizer = 'RMSprop', metrics = ['accuracy'])\n",
        "model.summary()"
      ],
      "execution_count": 11,
      "outputs": [
        {
          "output_type": "stream",
          "text": [
            "_________________________________________________________________\n",
            "Layer (type)                 Output Shape              Param #   \n",
            "=================================================================\n",
            "embedding_1 (Embedding)      (None, 1939, 32)          64000     \n",
            "_________________________________________________________________\n",
            "dropout_1 (Dropout)          (None, 1939, 32)          0         \n",
            "_________________________________________________________________\n",
            "bidirectional_1 (Bidirection (None, 1939, 40)          8480      \n",
            "_________________________________________________________________\n",
            "dropout_2 (Dropout)          (None, 1939, 40)          0         \n",
            "_________________________________________________________________\n",
            "bidirectional_2 (Bidirection (None, 40)                9760      \n",
            "_________________________________________________________________\n",
            "dropout_3 (Dropout)          (None, 40)                0         \n",
            "_________________________________________________________________\n",
            "dense_1 (Dense)              (None, 1)                 41        \n",
            "=================================================================\n",
            "Total params: 82,281\n",
            "Trainable params: 82,281\n",
            "Non-trainable params: 0\n",
            "_________________________________________________________________\n"
          ],
          "name": "stdout"
        }
      ]
    },
    {
      "metadata": {
        "id": "7tO0EivoG5YJ",
        "colab_type": "text"
      },
      "cell_type": "markdown",
      "source": [
        "<br>\n",
        "<br>\n",
        "\n",
        "# Entrenamiento:"
      ]
    },
    {
      "metadata": {
        "id": "c9pNsQXWKyno",
        "colab_type": "code",
        "colab": {
          "base_uri": "https://localhost:8080/",
          "height": 139
        },
        "outputId": "1b5043ed-37ff-476b-f93f-2f2e3f6c8a86"
      },
      "cell_type": "code",
      "source": [
        "hist = model.fit(X_train, Y_train, epochs = 10, batch_size = 512, verbose = 2)"
      ],
      "execution_count": 12,
      "outputs": [
        {
          "output_type": "stream",
          "text": [
            "Epoch 1/3\n",
            " - 1712s - loss: 0.5141 - acc: 0.7441\n",
            "Epoch 2/3\n",
            " - 1704s - loss: 0.3538 - acc: 0.8548\n",
            "Epoch 3/3\n",
            " - 1700s - loss: 0.3116 - acc: 0.8720\n"
          ],
          "name": "stdout"
        },
        {
          "output_type": "execute_result",
          "data": {
            "text/plain": [
              "<keras.callbacks.History at 0x7fb0cf8c4240>"
            ]
          },
          "metadata": {
            "tags": []
          },
          "execution_count": 12
        }
      ]
    },
    {
      "metadata": {
        "id": "VYEl7Z8uG5YV",
        "colab_type": "text"
      },
      "cell_type": "markdown",
      "source": [
        "<br>\n",
        "<br>\n",
        "# Predicción usando los Datos de Testing:"
      ]
    },
    {
      "metadata": {
        "id": "hbemxjCbK2rT",
        "colab_type": "code",
        "colab": {
          "base_uri": "https://localhost:8080/",
          "height": 34
        },
        "outputId": "75e0bfdc-c883-42c9-a0c0-87754ce26b34"
      },
      "cell_type": "code",
      "source": [
        "# Final evaluation of the model\n",
        "scores = model.evaluate(X_test, Y_test, verbose=0)\n",
        "print(\"Accuracy: %.2f%%\" % (scores[1]*100))"
      ],
      "execution_count": 14,
      "outputs": [
        {
          "output_type": "stream",
          "text": [
            "Accuracy: 85.92%\n"
          ],
          "name": "stdout"
        }
      ]
    },
    {
      "metadata": {
        "id": "d53ok6P0G5Ya",
        "colab_type": "text"
      },
      "cell_type": "markdown",
      "source": [
        "# Gráficos Loss & Accuracy by Epochs"
      ]
    },
    {
      "metadata": {
        "id": "Y9DwRh47G5Yb",
        "colab_type": "code",
        "outputId": "4cc4dd46-b706-4398-9f15-d26a85f54163",
        "colab": {
          "base_uri": "https://localhost:8080/",
          "height": 376
        }
      },
      "cell_type": "code",
      "source": [
        "from pandas import DataFrame\n",
        "from matplotlib import pyplot\n",
        "results = DataFrame()\n",
        "results['Loss'] = hist.history['loss']\n",
        "results['Accuracy'] = hist.history['acc']\n",
        "\n",
        "results.plot()\n",
        "pyplot.title('RNN LSTM Bidirectional 2 Layer')\n",
        "pyplot.xlabel('Num of Epochs')\n",
        "pyplot.show()"
      ],
      "execution_count": 33,
      "outputs": [
        {
          "output_type": "display_data",
          "data": {
            "image/png": "[encoded data removed]",
            "text/plain": [
              "<matplotlib.figure.Figure at 0x7fb0c8355e80>"
            ]
          },
          "metadata": {
            "tags": []
          }
        }
      ]
    },
    {
      "metadata": {
        "id": "FOjlALmcG5Ye",
        "colab_type": "text"
      },
      "cell_type": "markdown",
      "source": [
        "<br>\n",
        "<br>"
      ]
    }
  ]
}